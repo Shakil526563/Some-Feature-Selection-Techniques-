{
 "cells": [
  {
   "cell_type": "code",
   "execution_count": 1,
   "id": "2bec9b29",
   "metadata": {
    "id": "2bec9b29"
   },
   "outputs": [],
   "source": [
    "import pandas as pd\n",
    "import numpy as np\n",
    "import matplotlib.pyplot as plt"
   ]
  },
  {
   "cell_type": "code",
   "execution_count": 2,
   "id": "1625e19d",
   "metadata": {
    "id": "1625e19d",
    "outputId": "5420de12-5cc4-4c0c-dba9-0aaa37c0f374"
   },
   "outputs": [
    {
     "data": {
      "text/html": [
       "<div>\n",
       "<style scoped>\n",
       "    .dataframe tbody tr th:only-of-type {\n",
       "        vertical-align: middle;\n",
       "    }\n",
       "\n",
       "    .dataframe tbody tr th {\n",
       "        vertical-align: top;\n",
       "    }\n",
       "\n",
       "    .dataframe thead th {\n",
       "        text-align: right;\n",
       "    }\n",
       "</style>\n",
       "<table border=\"1\" class=\"dataframe\">\n",
       "  <thead>\n",
       "    <tr style=\"text-align: right;\">\n",
       "      <th></th>\n",
       "      <th>Unnamed: 0</th>\n",
       "      <th>1</th>\n",
       "      <th>2</th>\n",
       "      <th>6</th>\n",
       "      <th>3</th>\n",
       "      <th>7</th>\n",
       "      <th>8</th>\n",
       "      <th>16</th>\n",
       "      <th>11</th>\n",
       "      <th>12</th>\n",
       "      <th>...</th>\n",
       "      <th>deg90_RLN</th>\n",
       "      <th>deg135_RLN</th>\n",
       "      <th>hu3</th>\n",
       "      <th>hu1</th>\n",
       "      <th>hu4</th>\n",
       "      <th>class</th>\n",
       "      <th>coarseness</th>\n",
       "      <th>contrast</th>\n",
       "      <th>directionality</th>\n",
       "      <th>roughness</th>\n",
       "    </tr>\n",
       "  </thead>\n",
       "  <tbody>\n",
       "    <tr>\n",
       "      <th>0</th>\n",
       "      <td>0</td>\n",
       "      <td>-0.957238</td>\n",
       "      <td>-1.493163</td>\n",
       "      <td>-0.957238</td>\n",
       "      <td>-1.124419</td>\n",
       "      <td>-1.493163</td>\n",
       "      <td>-1.124419</td>\n",
       "      <td>-0.872374</td>\n",
       "      <td>-0.946514</td>\n",
       "      <td>-1.495916</td>\n",
       "      <td>...</td>\n",
       "      <td>27013.51277</td>\n",
       "      <td>27599.67391</td>\n",
       "      <td>7.954630</td>\n",
       "      <td>2.197091</td>\n",
       "      <td>8.719217</td>\n",
       "      <td>0</td>\n",
       "      <td>7.232243</td>\n",
       "      <td>11.838639</td>\n",
       "      <td>524.241477</td>\n",
       "      <td>19.070882</td>\n",
       "    </tr>\n",
       "    <tr>\n",
       "      <th>1</th>\n",
       "      <td>1</td>\n",
       "      <td>-0.907717</td>\n",
       "      <td>-1.433074</td>\n",
       "      <td>-0.907717</td>\n",
       "      <td>-1.072875</td>\n",
       "      <td>-1.433074</td>\n",
       "      <td>-1.072875</td>\n",
       "      <td>-0.828076</td>\n",
       "      <td>-0.905520</td>\n",
       "      <td>-1.434335</td>\n",
       "      <td>...</td>\n",
       "      <td>14306.91431</td>\n",
       "      <td>16431.16822</td>\n",
       "      <td>8.081376</td>\n",
       "      <td>1.964328</td>\n",
       "      <td>8.388579</td>\n",
       "      <td>0</td>\n",
       "      <td>6.322784</td>\n",
       "      <td>5.852207</td>\n",
       "      <td>476.605065</td>\n",
       "      <td>12.174991</td>\n",
       "    </tr>\n",
       "    <tr>\n",
       "      <th>2</th>\n",
       "      <td>2</td>\n",
       "      <td>-0.996811</td>\n",
       "      <td>-1.629985</td>\n",
       "      <td>-0.996811</td>\n",
       "      <td>-1.189055</td>\n",
       "      <td>-1.629985</td>\n",
       "      <td>-1.189055</td>\n",
       "      <td>-0.902501</td>\n",
       "      <td>-0.984232</td>\n",
       "      <td>-1.622946</td>\n",
       "      <td>...</td>\n",
       "      <td>10638.05948</td>\n",
       "      <td>12254.77522</td>\n",
       "      <td>8.012113</td>\n",
       "      <td>2.022809</td>\n",
       "      <td>8.285929</td>\n",
       "      <td>0</td>\n",
       "      <td>7.384526</td>\n",
       "      <td>10.495720</td>\n",
       "      <td>1164.156497</td>\n",
       "      <td>17.880247</td>\n",
       "    </tr>\n",
       "    <tr>\n",
       "      <th>3</th>\n",
       "      <td>3</td>\n",
       "      <td>-0.965844</td>\n",
       "      <td>-1.483161</td>\n",
       "      <td>-0.965844</td>\n",
       "      <td>-1.128529</td>\n",
       "      <td>-1.483161</td>\n",
       "      <td>-1.128529</td>\n",
       "      <td>-0.880725</td>\n",
       "      <td>-0.947570</td>\n",
       "      <td>-1.469450</td>\n",
       "      <td>...</td>\n",
       "      <td>25769.20033</td>\n",
       "      <td>26429.59295</td>\n",
       "      <td>7.979497</td>\n",
       "      <td>2.000932</td>\n",
       "      <td>7.549322</td>\n",
       "      <td>0</td>\n",
       "      <td>6.037169</td>\n",
       "      <td>7.026680</td>\n",
       "      <td>207.652122</td>\n",
       "      <td>13.063849</td>\n",
       "    </tr>\n",
       "    <tr>\n",
       "      <th>4</th>\n",
       "      <td>4</td>\n",
       "      <td>-0.978293</td>\n",
       "      <td>-1.538853</td>\n",
       "      <td>-0.978293</td>\n",
       "      <td>-1.150825</td>\n",
       "      <td>-1.538853</td>\n",
       "      <td>-1.150825</td>\n",
       "      <td>-0.883713</td>\n",
       "      <td>-0.956328</td>\n",
       "      <td>-1.533055</td>\n",
       "      <td>...</td>\n",
       "      <td>19075.50255</td>\n",
       "      <td>19034.67483</td>\n",
       "      <td>7.917753</td>\n",
       "      <td>1.992772</td>\n",
       "      <td>8.553030</td>\n",
       "      <td>0</td>\n",
       "      <td>6.604911</td>\n",
       "      <td>5.956984</td>\n",
       "      <td>622.106991</td>\n",
       "      <td>12.561894</td>\n",
       "    </tr>\n",
       "  </tbody>\n",
       "</table>\n",
       "<p>5 rows × 76 columns</p>\n",
       "</div>"
      ],
      "text/plain": [
       "   Unnamed: 0         1         2         6         3         7         8  \\\n",
       "0           0 -0.957238 -1.493163 -0.957238 -1.124419 -1.493163 -1.124419   \n",
       "1           1 -0.907717 -1.433074 -0.907717 -1.072875 -1.433074 -1.072875   \n",
       "2           2 -0.996811 -1.629985 -0.996811 -1.189055 -1.629985 -1.189055   \n",
       "3           3 -0.965844 -1.483161 -0.965844 -1.128529 -1.483161 -1.128529   \n",
       "4           4 -0.978293 -1.538853 -0.978293 -1.150825 -1.538853 -1.150825   \n",
       "\n",
       "         16        11        12  ...    deg90_RLN   deg135_RLN       hu3  \\\n",
       "0 -0.872374 -0.946514 -1.495916  ...  27013.51277  27599.67391  7.954630   \n",
       "1 -0.828076 -0.905520 -1.434335  ...  14306.91431  16431.16822  8.081376   \n",
       "2 -0.902501 -0.984232 -1.622946  ...  10638.05948  12254.77522  8.012113   \n",
       "3 -0.880725 -0.947570 -1.469450  ...  25769.20033  26429.59295  7.979497   \n",
       "4 -0.883713 -0.956328 -1.533055  ...  19075.50255  19034.67483  7.917753   \n",
       "\n",
       "        hu1       hu4  class  coarseness   contrast  directionality  roughness  \n",
       "0  2.197091  8.719217      0    7.232243  11.838639      524.241477  19.070882  \n",
       "1  1.964328  8.388579      0    6.322784   5.852207      476.605065  12.174991  \n",
       "2  2.022809  8.285929      0    7.384526  10.495720     1164.156497  17.880247  \n",
       "3  2.000932  7.549322      0    6.037169   7.026680      207.652122  13.063849  \n",
       "4  1.992772  8.553030      0    6.604911   5.956984      622.106991  12.561894  \n",
       "\n",
       "[5 rows x 76 columns]"
      ]
     },
     "execution_count": 2,
     "metadata": {},
     "output_type": "execute_result"
    }
   ],
   "source": [
    "df = pd.read_csv(\"E:\\\\Research Related Work\\\\handcrafted csv\\\\fullhandcrafted 74\\\\handcrafted74feature.csv\")\n",
    "df.head()"
   ]
  },
  {
   "cell_type": "code",
   "execution_count": 3,
   "id": "b733aa6b",
   "metadata": {},
   "outputs": [],
   "source": [
    "df=df.drop(['Unnamed: 0'],axis=1)\n"
   ]
  },
  {
   "cell_type": "code",
   "execution_count": 4,
   "id": "3bbdfb92",
   "metadata": {
    "id": "3bbdfb92",
    "outputId": "a9ec28b5-afc0-48df-c622-d85bf80fe7f1"
   },
   "outputs": [
    {
     "data": {
      "text/plain": [
       "gabor_entropy         1763\n",
       "directionality         169\n",
       "lbp_entropy              3\n",
       "Mean                     1\n",
       "Standard Deviation       1\n",
       "                      ... \n",
       "43                       0\n",
       "42                       0\n",
       "37                       0\n",
       "38                       0\n",
       "roughness                0\n",
       "Length: 75, dtype: int64"
      ]
     },
     "execution_count": 4,
     "metadata": {},
     "output_type": "execute_result"
    }
   ],
   "source": [
    "df.isnull().sum().sort_values(ascending=False).head(100)"
   ]
  },
  {
   "cell_type": "code",
   "execution_count": 5,
   "id": "390a3386",
   "metadata": {},
   "outputs": [],
   "source": [
    "df=df.fillna(method='ffill')"
   ]
  },
  {
   "cell_type": "code",
   "execution_count": 6,
   "id": "c9660334",
   "metadata": {
    "id": "c9660334"
   },
   "outputs": [],
   "source": [
    "y= df['class']\n",
    "X= df.drop('class', axis=1)\n"
   ]
  },
  {
   "cell_type": "code",
   "execution_count": null,
   "id": "aea01906",
   "metadata": {
    "id": "aea01906",
    "outputId": "f991944a-2be8-429a-9912-94ba6e863e65"
   },
   "outputs": [],
   "source": []
  },
  {
   "cell_type": "code",
   "execution_count": 7,
   "id": "797b5309",
   "metadata": {
    "id": "797b5309"
   },
   "outputs": [
    {
     "data": {
      "text/html": [
       "<div>\n",
       "<style scoped>\n",
       "    .dataframe tbody tr th:only-of-type {\n",
       "        vertical-align: middle;\n",
       "    }\n",
       "\n",
       "    .dataframe tbody tr th {\n",
       "        vertical-align: top;\n",
       "    }\n",
       "\n",
       "    .dataframe thead th {\n",
       "        text-align: right;\n",
       "    }\n",
       "</style>\n",
       "<table border=\"1\" class=\"dataframe\">\n",
       "  <thead>\n",
       "    <tr style=\"text-align: right;\">\n",
       "      <th></th>\n",
       "      <th>1</th>\n",
       "      <th>2</th>\n",
       "      <th>6</th>\n",
       "      <th>3</th>\n",
       "      <th>7</th>\n",
       "      <th>8</th>\n",
       "      <th>16</th>\n",
       "      <th>11</th>\n",
       "      <th>12</th>\n",
       "      <th>13</th>\n",
       "      <th>...</th>\n",
       "      <th>deg90_RLN</th>\n",
       "      <th>deg135_RLN</th>\n",
       "      <th>hu3</th>\n",
       "      <th>hu1</th>\n",
       "      <th>hu4</th>\n",
       "      <th>class</th>\n",
       "      <th>coarseness</th>\n",
       "      <th>contrast</th>\n",
       "      <th>directionality</th>\n",
       "      <th>roughness</th>\n",
       "    </tr>\n",
       "  </thead>\n",
       "  <tbody>\n",
       "    <tr>\n",
       "      <th>0</th>\n",
       "      <td>-0.957238</td>\n",
       "      <td>-1.493163</td>\n",
       "      <td>-0.957238</td>\n",
       "      <td>-1.124419</td>\n",
       "      <td>-1.493163</td>\n",
       "      <td>-1.124419</td>\n",
       "      <td>-0.872374</td>\n",
       "      <td>-0.946514</td>\n",
       "      <td>-1.495916</td>\n",
       "      <td>-1.124013</td>\n",
       "      <td>...</td>\n",
       "      <td>27013.51277</td>\n",
       "      <td>27599.67391</td>\n",
       "      <td>7.954630</td>\n",
       "      <td>2.197091</td>\n",
       "      <td>8.719217</td>\n",
       "      <td>0</td>\n",
       "      <td>7.232243</td>\n",
       "      <td>11.838639</td>\n",
       "      <td>524.241477</td>\n",
       "      <td>19.070882</td>\n",
       "    </tr>\n",
       "    <tr>\n",
       "      <th>1</th>\n",
       "      <td>-0.907717</td>\n",
       "      <td>-1.433074</td>\n",
       "      <td>-0.907717</td>\n",
       "      <td>-1.072875</td>\n",
       "      <td>-1.433074</td>\n",
       "      <td>-1.072875</td>\n",
       "      <td>-0.828076</td>\n",
       "      <td>-0.905520</td>\n",
       "      <td>-1.434335</td>\n",
       "      <td>-1.072130</td>\n",
       "      <td>...</td>\n",
       "      <td>14306.91431</td>\n",
       "      <td>16431.16822</td>\n",
       "      <td>8.081376</td>\n",
       "      <td>1.964328</td>\n",
       "      <td>8.388579</td>\n",
       "      <td>0</td>\n",
       "      <td>6.322784</td>\n",
       "      <td>5.852207</td>\n",
       "      <td>476.605065</td>\n",
       "      <td>12.174991</td>\n",
       "    </tr>\n",
       "    <tr>\n",
       "      <th>2</th>\n",
       "      <td>-0.996811</td>\n",
       "      <td>-1.629985</td>\n",
       "      <td>-0.996811</td>\n",
       "      <td>-1.189055</td>\n",
       "      <td>-1.629985</td>\n",
       "      <td>-1.189055</td>\n",
       "      <td>-0.902501</td>\n",
       "      <td>-0.984232</td>\n",
       "      <td>-1.622946</td>\n",
       "      <td>-1.180678</td>\n",
       "      <td>...</td>\n",
       "      <td>10638.05948</td>\n",
       "      <td>12254.77522</td>\n",
       "      <td>8.012113</td>\n",
       "      <td>2.022809</td>\n",
       "      <td>8.285929</td>\n",
       "      <td>0</td>\n",
       "      <td>7.384526</td>\n",
       "      <td>10.495720</td>\n",
       "      <td>1164.156497</td>\n",
       "      <td>17.880247</td>\n",
       "    </tr>\n",
       "    <tr>\n",
       "      <th>3</th>\n",
       "      <td>-0.965844</td>\n",
       "      <td>-1.483161</td>\n",
       "      <td>-0.965844</td>\n",
       "      <td>-1.128529</td>\n",
       "      <td>-1.483161</td>\n",
       "      <td>-1.128529</td>\n",
       "      <td>-0.880725</td>\n",
       "      <td>-0.947570</td>\n",
       "      <td>-1.469450</td>\n",
       "      <td>-1.117487</td>\n",
       "      <td>...</td>\n",
       "      <td>25769.20033</td>\n",
       "      <td>26429.59295</td>\n",
       "      <td>7.979497</td>\n",
       "      <td>2.000932</td>\n",
       "      <td>7.549322</td>\n",
       "      <td>0</td>\n",
       "      <td>6.037169</td>\n",
       "      <td>7.026680</td>\n",
       "      <td>207.652122</td>\n",
       "      <td>13.063849</td>\n",
       "    </tr>\n",
       "    <tr>\n",
       "      <th>4</th>\n",
       "      <td>-0.978293</td>\n",
       "      <td>-1.538853</td>\n",
       "      <td>-0.978293</td>\n",
       "      <td>-1.150825</td>\n",
       "      <td>-1.538853</td>\n",
       "      <td>-1.150825</td>\n",
       "      <td>-0.883713</td>\n",
       "      <td>-0.956328</td>\n",
       "      <td>-1.533055</td>\n",
       "      <td>-1.137567</td>\n",
       "      <td>...</td>\n",
       "      <td>19075.50255</td>\n",
       "      <td>19034.67483</td>\n",
       "      <td>7.917753</td>\n",
       "      <td>1.992772</td>\n",
       "      <td>8.553030</td>\n",
       "      <td>0</td>\n",
       "      <td>6.604911</td>\n",
       "      <td>5.956984</td>\n",
       "      <td>622.106991</td>\n",
       "      <td>12.561894</td>\n",
       "    </tr>\n",
       "    <tr>\n",
       "      <th>...</th>\n",
       "      <td>...</td>\n",
       "      <td>...</td>\n",
       "      <td>...</td>\n",
       "      <td>...</td>\n",
       "      <td>...</td>\n",
       "      <td>...</td>\n",
       "      <td>...</td>\n",
       "      <td>...</td>\n",
       "      <td>...</td>\n",
       "      <td>...</td>\n",
       "      <td>...</td>\n",
       "      <td>...</td>\n",
       "      <td>...</td>\n",
       "      <td>...</td>\n",
       "      <td>...</td>\n",
       "      <td>...</td>\n",
       "      <td>...</td>\n",
       "      <td>...</td>\n",
       "      <td>...</td>\n",
       "      <td>...</td>\n",
       "      <td>...</td>\n",
       "    </tr>\n",
       "    <tr>\n",
       "      <th>100027</th>\n",
       "      <td>0.718076</td>\n",
       "      <td>0.371118</td>\n",
       "      <td>0.718076</td>\n",
       "      <td>0.626865</td>\n",
       "      <td>0.371118</td>\n",
       "      <td>0.626865</td>\n",
       "      <td>0.743645</td>\n",
       "      <td>0.725992</td>\n",
       "      <td>0.363442</td>\n",
       "      <td>0.619450</td>\n",
       "      <td>...</td>\n",
       "      <td>43775.67183</td>\n",
       "      <td>44669.31976</td>\n",
       "      <td>11.136257</td>\n",
       "      <td>2.719576</td>\n",
       "      <td>12.667863</td>\n",
       "      <td>8</td>\n",
       "      <td>6.310746</td>\n",
       "      <td>40.747286</td>\n",
       "      <td>292.892542</td>\n",
       "      <td>47.058032</td>\n",
       "    </tr>\n",
       "    <tr>\n",
       "      <th>100028</th>\n",
       "      <td>1.664372</td>\n",
       "      <td>1.231997</td>\n",
       "      <td>1.664372</td>\n",
       "      <td>1.517750</td>\n",
       "      <td>1.231997</td>\n",
       "      <td>1.517750</td>\n",
       "      <td>1.697429</td>\n",
       "      <td>1.628063</td>\n",
       "      <td>1.203891</td>\n",
       "      <td>1.506391</td>\n",
       "      <td>...</td>\n",
       "      <td>45855.50402</td>\n",
       "      <td>46449.60081</td>\n",
       "      <td>12.280273</td>\n",
       "      <td>2.701909</td>\n",
       "      <td>11.982028</td>\n",
       "      <td>8</td>\n",
       "      <td>6.412807</td>\n",
       "      <td>29.009258</td>\n",
       "      <td>372.987849</td>\n",
       "      <td>35.422065</td>\n",
       "    </tr>\n",
       "    <tr>\n",
       "      <th>100029</th>\n",
       "      <td>0.781320</td>\n",
       "      <td>0.315582</td>\n",
       "      <td>0.781320</td>\n",
       "      <td>0.637054</td>\n",
       "      <td>0.315582</td>\n",
       "      <td>0.637054</td>\n",
       "      <td>0.837001</td>\n",
       "      <td>0.787462</td>\n",
       "      <td>0.304157</td>\n",
       "      <td>0.612814</td>\n",
       "      <td>...</td>\n",
       "      <td>41067.30704</td>\n",
       "      <td>41637.74891</td>\n",
       "      <td>11.214880</td>\n",
       "      <td>2.733992</td>\n",
       "      <td>13.062463</td>\n",
       "      <td>8</td>\n",
       "      <td>6.185308</td>\n",
       "      <td>24.722218</td>\n",
       "      <td>424.067055</td>\n",
       "      <td>30.907525</td>\n",
       "    </tr>\n",
       "    <tr>\n",
       "      <th>100030</th>\n",
       "      <td>1.528610</td>\n",
       "      <td>1.091100</td>\n",
       "      <td>1.528610</td>\n",
       "      <td>1.387918</td>\n",
       "      <td>1.091100</td>\n",
       "      <td>1.387918</td>\n",
       "      <td>1.594743</td>\n",
       "      <td>1.532259</td>\n",
       "      <td>1.079969</td>\n",
       "      <td>1.367934</td>\n",
       "      <td>...</td>\n",
       "      <td>45238.14563</td>\n",
       "      <td>46011.63391</td>\n",
       "      <td>11.813090</td>\n",
       "      <td>2.714567</td>\n",
       "      <td>11.116512</td>\n",
       "      <td>8</td>\n",
       "      <td>6.594248</td>\n",
       "      <td>41.077872</td>\n",
       "      <td>501.978411</td>\n",
       "      <td>47.672120</td>\n",
       "    </tr>\n",
       "    <tr>\n",
       "      <th>100031</th>\n",
       "      <td>0.957500</td>\n",
       "      <td>0.566948</td>\n",
       "      <td>0.957500</td>\n",
       "      <td>0.839615</td>\n",
       "      <td>0.566948</td>\n",
       "      <td>0.839615</td>\n",
       "      <td>0.980446</td>\n",
       "      <td>0.945746</td>\n",
       "      <td>0.545067</td>\n",
       "      <td>0.817942</td>\n",
       "      <td>...</td>\n",
       "      <td>44407.09630</td>\n",
       "      <td>44807.17093</td>\n",
       "      <td>11.216312</td>\n",
       "      <td>2.722938</td>\n",
       "      <td>12.123437</td>\n",
       "      <td>8</td>\n",
       "      <td>6.635344</td>\n",
       "      <td>31.888839</td>\n",
       "      <td>298.119331</td>\n",
       "      <td>38.524182</td>\n",
       "    </tr>\n",
       "  </tbody>\n",
       "</table>\n",
       "<p>100032 rows × 75 columns</p>\n",
       "</div>"
      ],
      "text/plain": [
       "               1         2         6         3         7         8        16  \\\n",
       "0      -0.957238 -1.493163 -0.957238 -1.124419 -1.493163 -1.124419 -0.872374   \n",
       "1      -0.907717 -1.433074 -0.907717 -1.072875 -1.433074 -1.072875 -0.828076   \n",
       "2      -0.996811 -1.629985 -0.996811 -1.189055 -1.629985 -1.189055 -0.902501   \n",
       "3      -0.965844 -1.483161 -0.965844 -1.128529 -1.483161 -1.128529 -0.880725   \n",
       "4      -0.978293 -1.538853 -0.978293 -1.150825 -1.538853 -1.150825 -0.883713   \n",
       "...          ...       ...       ...       ...       ...       ...       ...   \n",
       "100027  0.718076  0.371118  0.718076  0.626865  0.371118  0.626865  0.743645   \n",
       "100028  1.664372  1.231997  1.664372  1.517750  1.231997  1.517750  1.697429   \n",
       "100029  0.781320  0.315582  0.781320  0.637054  0.315582  0.637054  0.837001   \n",
       "100030  1.528610  1.091100  1.528610  1.387918  1.091100  1.387918  1.594743   \n",
       "100031  0.957500  0.566948  0.957500  0.839615  0.566948  0.839615  0.980446   \n",
       "\n",
       "              11        12        13  ...    deg90_RLN   deg135_RLN  \\\n",
       "0      -0.946514 -1.495916 -1.124013  ...  27013.51277  27599.67391   \n",
       "1      -0.905520 -1.434335 -1.072130  ...  14306.91431  16431.16822   \n",
       "2      -0.984232 -1.622946 -1.180678  ...  10638.05948  12254.77522   \n",
       "3      -0.947570 -1.469450 -1.117487  ...  25769.20033  26429.59295   \n",
       "4      -0.956328 -1.533055 -1.137567  ...  19075.50255  19034.67483   \n",
       "...          ...       ...       ...  ...          ...          ...   \n",
       "100027  0.725992  0.363442  0.619450  ...  43775.67183  44669.31976   \n",
       "100028  1.628063  1.203891  1.506391  ...  45855.50402  46449.60081   \n",
       "100029  0.787462  0.304157  0.612814  ...  41067.30704  41637.74891   \n",
       "100030  1.532259  1.079969  1.367934  ...  45238.14563  46011.63391   \n",
       "100031  0.945746  0.545067  0.817942  ...  44407.09630  44807.17093   \n",
       "\n",
       "              hu3       hu1        hu4  class  coarseness   contrast  \\\n",
       "0        7.954630  2.197091   8.719217      0    7.232243  11.838639   \n",
       "1        8.081376  1.964328   8.388579      0    6.322784   5.852207   \n",
       "2        8.012113  2.022809   8.285929      0    7.384526  10.495720   \n",
       "3        7.979497  2.000932   7.549322      0    6.037169   7.026680   \n",
       "4        7.917753  1.992772   8.553030      0    6.604911   5.956984   \n",
       "...           ...       ...        ...    ...         ...        ...   \n",
       "100027  11.136257  2.719576  12.667863      8    6.310746  40.747286   \n",
       "100028  12.280273  2.701909  11.982028      8    6.412807  29.009258   \n",
       "100029  11.214880  2.733992  13.062463      8    6.185308  24.722218   \n",
       "100030  11.813090  2.714567  11.116512      8    6.594248  41.077872   \n",
       "100031  11.216312  2.722938  12.123437      8    6.635344  31.888839   \n",
       "\n",
       "        directionality  roughness  \n",
       "0           524.241477  19.070882  \n",
       "1           476.605065  12.174991  \n",
       "2          1164.156497  17.880247  \n",
       "3           207.652122  13.063849  \n",
       "4           622.106991  12.561894  \n",
       "...                ...        ...  \n",
       "100027      292.892542  47.058032  \n",
       "100028      372.987849  35.422065  \n",
       "100029      424.067055  30.907525  \n",
       "100030      501.978411  47.672120  \n",
       "100031      298.119331  38.524182  \n",
       "\n",
       "[100032 rows x 75 columns]"
      ]
     },
     "execution_count": 7,
     "metadata": {},
     "output_type": "execute_result"
    }
   ],
   "source": [
    "df"
   ]
  },
  {
   "cell_type": "code",
   "execution_count": null,
   "id": "0c90956e",
   "metadata": {
    "id": "0c90956e",
    "outputId": "529d0486-5ebf-4a40-d829-e766ec105d4b"
   },
   "outputs": [],
   "source": []
  },
  {
   "cell_type": "code",
   "execution_count": null,
   "id": "7fe4225d",
   "metadata": {
    "id": "7fe4225d"
   },
   "outputs": [],
   "source": []
  },
  {
   "cell_type": "code",
   "execution_count": null,
   "id": "5b44934a",
   "metadata": {
    "id": "5b44934a"
   },
   "outputs": [],
   "source": []
  },
  {
   "cell_type": "markdown",
   "id": "cb9cd4b8",
   "metadata": {
    "id": "cb9cd4b8"
   },
   "source": [
    "# For Feature Importance"
   ]
  },
  {
   "cell_type": "code",
   "execution_count": 8,
   "id": "c6d216df",
   "metadata": {
    "id": "c6d216df"
   },
   "outputs": [],
   "source": [
    "from sklearn.ensemble import RandomForestClassifier\n"
   ]
  },
  {
   "cell_type": "code",
   "execution_count": 9,
   "id": "25b78ae1",
   "metadata": {
    "id": "25b78ae1"
   },
   "outputs": [],
   "source": [
    "model = RandomForestClassifier()"
   ]
  },
  {
   "cell_type": "code",
   "execution_count": 10,
   "id": "7f719b6e",
   "metadata": {
    "id": "7f719b6e",
    "outputId": "62d21bc8-167e-4be7-f33d-60eaf8da2f4d"
   },
   "outputs": [
    {
     "data": {
      "text/html": [
       "<style>#sk-container-id-1 {color: black;background-color: white;}#sk-container-id-1 pre{padding: 0;}#sk-container-id-1 div.sk-toggleable {background-color: white;}#sk-container-id-1 label.sk-toggleable__label {cursor: pointer;display: block;width: 100%;margin-bottom: 0;padding: 0.3em;box-sizing: border-box;text-align: center;}#sk-container-id-1 label.sk-toggleable__label-arrow:before {content: \"▸\";float: left;margin-right: 0.25em;color: #696969;}#sk-container-id-1 label.sk-toggleable__label-arrow:hover:before {color: black;}#sk-container-id-1 div.sk-estimator:hover label.sk-toggleable__label-arrow:before {color: black;}#sk-container-id-1 div.sk-toggleable__content {max-height: 0;max-width: 0;overflow: hidden;text-align: left;background-color: #f0f8ff;}#sk-container-id-1 div.sk-toggleable__content pre {margin: 0.2em;color: black;border-radius: 0.25em;background-color: #f0f8ff;}#sk-container-id-1 input.sk-toggleable__control:checked~div.sk-toggleable__content {max-height: 200px;max-width: 100%;overflow: auto;}#sk-container-id-1 input.sk-toggleable__control:checked~label.sk-toggleable__label-arrow:before {content: \"▾\";}#sk-container-id-1 div.sk-estimator input.sk-toggleable__control:checked~label.sk-toggleable__label {background-color: #d4ebff;}#sk-container-id-1 div.sk-label input.sk-toggleable__control:checked~label.sk-toggleable__label {background-color: #d4ebff;}#sk-container-id-1 input.sk-hidden--visually {border: 0;clip: rect(1px 1px 1px 1px);clip: rect(1px, 1px, 1px, 1px);height: 1px;margin: -1px;overflow: hidden;padding: 0;position: absolute;width: 1px;}#sk-container-id-1 div.sk-estimator {font-family: monospace;background-color: #f0f8ff;border: 1px dotted black;border-radius: 0.25em;box-sizing: border-box;margin-bottom: 0.5em;}#sk-container-id-1 div.sk-estimator:hover {background-color: #d4ebff;}#sk-container-id-1 div.sk-parallel-item::after {content: \"\";width: 100%;border-bottom: 1px solid gray;flex-grow: 1;}#sk-container-id-1 div.sk-label:hover label.sk-toggleable__label {background-color: #d4ebff;}#sk-container-id-1 div.sk-serial::before {content: \"\";position: absolute;border-left: 1px solid gray;box-sizing: border-box;top: 0;bottom: 0;left: 50%;z-index: 0;}#sk-container-id-1 div.sk-serial {display: flex;flex-direction: column;align-items: center;background-color: white;padding-right: 0.2em;padding-left: 0.2em;position: relative;}#sk-container-id-1 div.sk-item {position: relative;z-index: 1;}#sk-container-id-1 div.sk-parallel {display: flex;align-items: stretch;justify-content: center;background-color: white;position: relative;}#sk-container-id-1 div.sk-item::before, #sk-container-id-1 div.sk-parallel-item::before {content: \"\";position: absolute;border-left: 1px solid gray;box-sizing: border-box;top: 0;bottom: 0;left: 50%;z-index: -1;}#sk-container-id-1 div.sk-parallel-item {display: flex;flex-direction: column;z-index: 1;position: relative;background-color: white;}#sk-container-id-1 div.sk-parallel-item:first-child::after {align-self: flex-end;width: 50%;}#sk-container-id-1 div.sk-parallel-item:last-child::after {align-self: flex-start;width: 50%;}#sk-container-id-1 div.sk-parallel-item:only-child::after {width: 0;}#sk-container-id-1 div.sk-dashed-wrapped {border: 1px dashed gray;margin: 0 0.4em 0.5em 0.4em;box-sizing: border-box;padding-bottom: 0.4em;background-color: white;}#sk-container-id-1 div.sk-label label {font-family: monospace;font-weight: bold;display: inline-block;line-height: 1.2em;}#sk-container-id-1 div.sk-label-container {text-align: center;}#sk-container-id-1 div.sk-container {/* jupyter's `normalize.less` sets `[hidden] { display: none; }` but bootstrap.min.css set `[hidden] { display: none !important; }` so we also need the `!important` here to be able to override the default hidden behavior on the sphinx rendered scikit-learn.org. See: https://github.com/scikit-learn/scikit-learn/issues/21755 */display: inline-block !important;position: relative;}#sk-container-id-1 div.sk-text-repr-fallback {display: none;}</style><div id=\"sk-container-id-1\" class=\"sk-top-container\"><div class=\"sk-text-repr-fallback\"><pre>RandomForestClassifier()</pre><b>In a Jupyter environment, please rerun this cell to show the HTML representation or trust the notebook. <br />On GitHub, the HTML representation is unable to render, please try loading this page with nbviewer.org.</b></div><div class=\"sk-container\" hidden><div class=\"sk-item\"><div class=\"sk-estimator sk-toggleable\"><input class=\"sk-toggleable__control sk-hidden--visually\" id=\"sk-estimator-id-1\" type=\"checkbox\" checked><label for=\"sk-estimator-id-1\" class=\"sk-toggleable__label sk-toggleable__label-arrow\">RandomForestClassifier</label><div class=\"sk-toggleable__content\"><pre>RandomForestClassifier()</pre></div></div></div></div></div>"
      ],
      "text/plain": [
       "RandomForestClassifier()"
      ]
     },
     "execution_count": 10,
     "metadata": {},
     "output_type": "execute_result"
    }
   ],
   "source": [
    "model.fit(X,y)"
   ]
  },
  {
   "cell_type": "code",
   "execution_count": 11,
   "id": "5a056910",
   "metadata": {
    "id": "5a056910",
    "outputId": "86262014-c2d3-4c48-f01e-9c33c20c36f6"
   },
   "outputs": [
    {
     "data": {
      "text/plain": [
       "array([0.00520368, 0.01067225, 0.00901116, 0.00842783, 0.01185528,\n",
       "       0.01046251, 0.00957646, 0.01112388, 0.02085448, 0.01014322,\n",
       "       0.00609104, 0.01553352, 0.02174594, 0.00810763, 0.00900581,\n",
       "       0.01499735, 0.0203471 , 0.01528008, 0.01178394, 0.01224808,\n",
       "       0.01278682, 0.01518488, 0.01222075, 0.01284317, 0.00780031,\n",
       "       0.00698152, 0.00872776, 0.00892887, 0.00769094, 0.0096299 ,\n",
       "       0.02298473, 0.01888759, 0.03479671, 0.0216617 , 0.00910907,\n",
       "       0.02013687, 0.01609574, 0.01052814, 0.02553763, 0.01308663,\n",
       "       0.00990761, 0.0194079 , 0.00809064, 0.00907279, 0.01020863,\n",
       "       0.00862932, 0.01892897, 0.01564614, 0.02594867, 0.01647719,\n",
       "       0.02612327, 0.02753977, 0.02120535, 0.01410686, 0.01362245,\n",
       "       0.01197314, 0.01004412, 0.00755847, 0.00985561, 0.00985881,\n",
       "       0.00865933, 0.01091721, 0.00937089, 0.01433278, 0.01274211,\n",
       "       0.01616662, 0.0129942 , 0.00852986, 0.02168869, 0.0104012 ,\n",
       "       0.01135336, 0.01238259, 0.00670974, 0.01145473])"
      ]
     },
     "execution_count": 11,
     "metadata": {},
     "output_type": "execute_result"
    }
   ],
   "source": [
    "model.feature_importances_"
   ]
  },
  {
   "cell_type": "code",
   "execution_count": 12,
   "id": "c3e814ee",
   "metadata": {
    "id": "c3e814ee"
   },
   "outputs": [],
   "source": [
    "top_feature = pd.Series(model.feature_importances_, index=X.columns)"
   ]
  },
  {
   "cell_type": "code",
   "execution_count": 13,
   "id": "d92dce66",
   "metadata": {
    "id": "d92dce66",
    "outputId": "70d55062-63c5-4e24-8576-c9b62b00a610"
   },
   "outputs": [
    {
     "data": {
      "text/plain": [
       "1                 0.005204\n",
       "2                 0.010672\n",
       "6                 0.009011\n",
       "3                 0.008428\n",
       "7                 0.011855\n",
       "                    ...   \n",
       "hu4               0.010401\n",
       "coarseness        0.011353\n",
       "contrast          0.012383\n",
       "directionality    0.006710\n",
       "roughness         0.011455\n",
       "Length: 74, dtype: float64"
      ]
     },
     "execution_count": 13,
     "metadata": {},
     "output_type": "execute_result"
    }
   ],
   "source": [
    "top_feature"
   ]
  },
  {
   "cell_type": "markdown",
   "id": "6be4c745",
   "metadata": {
    "id": "6be4c745"
   },
   "source": [
    "# For Visulization"
   ]
  },
  {
   "cell_type": "code",
   "execution_count": 19,
   "id": "87946245",
   "metadata": {
    "id": "87946245",
    "outputId": "d19b9f58-36bb-4b38-bf9e-ec3a77189a3e"
   },
   "outputs": [
    {
     "data": {
      "image/png": "[encoded data removed]",
      "text/plain": [
       "<Figure size 1000x500 with 1 Axes>"
      ]
     },
     "metadata": {},
     "output_type": "display_data"
    }
   ],
   "source": [
    "plt.figure(figsize =(10,5))\n",
    "top_feature.nlargest(40).plot(kind=\"barh\", color=\"c\")\n",
    "plt.xlabel(\"Score\")\n",
    "plt.ylabel(\"Features Name\")\n",
    "plt.title(\"Feature Importance\")\n",
    "plt.savefig(\"feature_importance.jpeg\")\n",
    "plt.show()"
   ]
  },
  {
   "cell_type": "code",
   "execution_count": 17,
   "id": "cdba22df",
   "metadata": {
    "id": "cdba22df",
    "outputId": "bef3ef65-f310-4219-df8c-05cf37a64a54"
   },
   "outputs": [
    {
     "data": {
      "image/png": "[encoded data removed]",
      "text/plain": [
       "<Figure size 640x480 with 1 Axes>"
      ]
     },
     "metadata": {},
     "output_type": "display_data"
    }
   ],
   "source": [
    "top_feature.nlargest(40).plot(kind=\"bar\")\n",
    "plt.show()"
   ]
  },
  {
   "cell_type": "code",
   "execution_count": 18,
   "id": "d32745ba",
   "metadata": {},
   "outputs": [
    {
     "data": {
      "text/plain": [
       "Contrast              0.034797\n",
       "lbp_energy            0.027540\n",
       "Skewness              0.026123\n",
       "Shannon_Entropy       0.025949\n",
       "Haralick6             0.025538\n",
       "Diss_sim              0.022985\n",
       "19                    0.021746\n",
       "hu1                   0.021689\n",
       "Entropy               0.021662\n",
       "lbp_entropy           0.021205\n",
       "12                    0.020854\n",
       "24                    0.020347\n",
       "Haralick2             0.020137\n",
       "Haralick9             0.019408\n",
       "Mean                  0.018929\n",
       "Homogen               0.018888\n",
       "Glcm_entropy          0.016477\n",
       "deg90_RLN             0.016167\n",
       "Haralick4             0.016096\n",
       "Standard Deviation    0.015646\n",
       "18                    0.015534\n",
       "28                    0.015280\n",
       "38                    0.015185\n",
       "23                    0.014997\n",
       "deg0_RLN              0.014333\n",
       "gabor_energy          0.014107\n",
       "gabor_entropy         0.013622\n",
       "Haralick7             0.013087\n",
       "deg135_RLN            0.012994\n",
       "42                    0.012843\n",
       "32                    0.012787\n",
       "deg45_RLN             0.012742\n",
       "contrast              0.012383\n",
       "33                    0.012248\n",
       "37                    0.012221\n",
       "deg0_SRE              0.011973\n",
       "7                     0.011855\n",
       "27                    0.011784\n",
       "roughness             0.011455\n",
       "coarseness            0.011353\n",
       "dtype: float64"
      ]
     },
     "execution_count": 18,
     "metadata": {},
     "output_type": "execute_result"
    }
   ],
   "source": [
    "top_feature.nlargest(40)"
   ]
  },
  {
   "cell_type": "code",
   "execution_count": null,
   "id": "29af00dd",
   "metadata": {},
   "outputs": [],
   "source": []
  },
  {
   "cell_type": "code",
   "execution_count": 17,
   "id": "5e7c18d4",
   "metadata": {},
   "outputs": [
    {
     "ename": "NameError",
     "evalue": "name 'X_train' is not defined",
     "output_type": "error",
     "traceback": [
      "\u001b[1;31m---------------------------------------------------------------------------\u001b[0m",
      "\u001b[1;31mNameError\u001b[0m                                 Traceback (most recent call last)",
      "\u001b[1;32m~\\AppData\\Local\\Temp\\ipykernel_7152\\3113745195.py\u001b[0m in \u001b[0;36m<module>\u001b[1;34m\u001b[0m\n\u001b[0;32m      3\u001b[0m \u001b[1;33m\u001b[0m\u001b[0m\n\u001b[0;32m      4\u001b[0m \u001b[0mselect\u001b[0m \u001b[1;33m=\u001b[0m \u001b[0mSelectFromModel\u001b[0m\u001b[1;33m(\u001b[0m\u001b[0mRandomForestClassifier\u001b[0m\u001b[1;33m(\u001b[0m\u001b[0mn_estimators\u001b[0m\u001b[1;33m=\u001b[0m\u001b[1;36m100\u001b[0m\u001b[1;33m,\u001b[0m\u001b[0mrandom_state\u001b[0m\u001b[1;33m=\u001b[0m\u001b[1;36m42\u001b[0m\u001b[1;33m)\u001b[0m\u001b[1;33m,\u001b[0m\u001b[0mthreshold\u001b[0m\u001b[1;33m=\u001b[0m\u001b[1;34m\"mean\"\u001b[0m\u001b[1;33m)\u001b[0m\u001b[1;33m\u001b[0m\u001b[1;33m\u001b[0m\u001b[0m\n\u001b[1;32m----> 5\u001b[1;33m \u001b[0mselect\u001b[0m\u001b[1;33m.\u001b[0m\u001b[0mfit\u001b[0m\u001b[1;33m(\u001b[0m\u001b[0mX_train\u001b[0m\u001b[1;33m,\u001b[0m\u001b[0my_train\u001b[0m\u001b[1;33m)\u001b[0m\u001b[1;33m\u001b[0m\u001b[1;33m\u001b[0m\u001b[0m\n\u001b[0m\u001b[0;32m      6\u001b[0m \u001b[0mX_train_selected\u001b[0m \u001b[1;33m=\u001b[0m \u001b[0mselect\u001b[0m\u001b[1;33m.\u001b[0m\u001b[0mtransform\u001b[0m\u001b[1;33m(\u001b[0m\u001b[0mX_train\u001b[0m\u001b[1;33m)\u001b[0m\u001b[1;33m\u001b[0m\u001b[1;33m\u001b[0m\u001b[0m\n\u001b[0;32m      7\u001b[0m \u001b[1;33m\u001b[0m\u001b[0m\n",
      "\u001b[1;31mNameError\u001b[0m: name 'X_train' is not defined"
     ]
    }
   ],
   "source": [
    "from sklearn.feature_selection import SelectFromModel\n",
    "from sklearn.ensemble import RandomForestClassifier\n",
    "\n",
    "select = SelectFromModel(RandomForestClassifier(n_estimators=100,random_state=42),threshold=\"mean\")\n",
    "select.fit(X_train,y_train)\n",
    "X_train_selected = select.transform(X_train)\n",
    "\n",
    "print(\"X_train.shape: {}\".format(X_train.shape))\n",
    "print(\"X_train_selected.shape: {}\".format(X_train_selected.shape))"
   ]
  },
  {
   "cell_type": "code",
   "execution_count": null,
   "id": "f489fcf2",
   "metadata": {},
   "outputs": [],
   "source": []
  },
  {
   "cell_type": "code",
   "execution_count": null,
   "id": "96838cf0",
   "metadata": {},
   "outputs": [],
   "source": []
  },
  {
   "cell_type": "code",
   "execution_count": null,
   "id": "e54f3a27",
   "metadata": {},
   "outputs": [],
   "source": []
  },
  {
   "cell_type": "code",
   "execution_count": null,
   "id": "8924066c",
   "metadata": {},
   "outputs": [],
   "source": []
  },
  {
   "cell_type": "code",
   "execution_count": null,
   "id": "6ee57315",
   "metadata": {},
   "outputs": [],
   "source": []
  },
  {
   "cell_type": "code",
   "execution_count": null,
   "id": "a2db289e",
   "metadata": {},
   "outputs": [],
   "source": []
  },
  {
   "cell_type": "code",
   "execution_count": null,
   "id": "86a22b7e",
   "metadata": {},
   "outputs": [],
   "source": []
  },
  {
   "cell_type": "code",
   "execution_count": null,
   "id": "3bb198af",
   "metadata": {},
   "outputs": [],
   "source": []
  },
  {
   "cell_type": "code",
   "execution_count": null,
   "id": "4de7d88b",
   "metadata": {},
   "outputs": [],
   "source": []
  },
  {
   "cell_type": "code",
   "execution_count": null,
   "id": "77ad463c",
   "metadata": {},
   "outputs": [],
   "source": []
  }
 ],
 "metadata": {
  "colab": {
   "provenance": []
  },
  "kernelspec": {
   "display_name": "Python 3 (ipykernel)",
   "language": "python",
   "name": "python3"
  },
  "language_info": {
   "codemirror_mode": {
    "name": "ipython",
    "version": 3
   },
   "file_extension": ".py",
   "mimetype": "text/x-python",
   "name": "python",
   "nbconvert_exporter": "python",
   "pygments_lexer": "ipython3",
   "version": "3.9.13"
  }
 },
 "nbformat": 4,
 "nbformat_minor": 5
}
