{
 "cells": [
  {
   "cell_type": "code",
   "execution_count": 26,
   "id": "c90a4ade",
   "metadata": {},
   "outputs": [],
   "source": [
    "# Import Dependenices\n",
    "import numpy as np\n",
    "import pandas as pd\n",
    "import matplotlib.pyplot as plt\n",
    "import seaborn as sns\n",
    "from sklearn.model_selection import train_test_split\n",
    "from sklearn.feature_selection import f_classif, f_regression\n",
    "from sklearn.feature_selection import SelectKBest, SelectPercentile\n",
    "%matplotlib inline\n",
    "import numpy as np\n",
    "import pandas as pd\n",
    "import matplotlib.pyplot as plt\n",
    "import seaborn as sns\n",
    "#from pandas_profiling import ProfileReport\n",
    "\n",
    "%matplotlib inline\n",
    "import pandas as pd \n",
    "import numpy as np \n",
    "import seaborn as sns \n",
    "import matplotlib.pyplot as plt \n",
    "#from pandas_profiling import ProfileReport\n",
    "import math\n",
    "\n",
    "from statsmodels.stats.outliers_influence import variance_inflation_factor\n",
    "from statsmodels.tools.tools import add_constant  \n",
    "from statsmodels.stats.outliers_influence import variance_inflation_factor\n",
    "from statsmodels.tools.tools import add_constant  \n",
    "from sklearn.feature_selection import SelectKBest\n",
    "from sklearn.feature_selection import chi2\n",
    "from sklearn.datasets import make_classification\n",
    "from sklearn.feature_selection import SelectKBest\n",
    "from sklearn.feature_selection import f_classif\n",
    "from sklearn.model_selection import train_test_split\n",
    "#from imblearn.over_sampling import SMOTE\n",
    "\n",
    "from sklearn.metrics import confusion_matrix,plot_roc_curve, classification_report\n",
    "from sklearn.metrics import mean_absolute_error , mean_absolute_percentage_error , mean_squared_error , accuracy_score\n",
    "from mlxtend.plotting import plot_confusion_matrix\n",
    "from sklearn.linear_model import LogisticRegression\n",
    "from sklearn.tree import DecisionTreeClassifier\n",
    "from sklearn.ensemble import RandomForestClassifier, AdaBoostClassifier\n",
    "from sklearn.neighbors import KNeighborsClassifier\n",
    "from sklearn.discriminant_analysis import LinearDiscriminantAnalysis\n",
    "from sklearn.svm import SVC\n",
    "from sklearn.impute import KNNImputer\n",
    "from xgboost import XGBClassifier\n",
    "#from catboost import CatBoostClassifier\n",
    "from sklearn.naive_bayes import GaussianNB\n",
    "from sklearn.naive_bayes import BernoulliNB\n",
    "%matplotlib inline\n",
    "\n",
    "import warnings\n",
    "warnings.filterwarnings(\"ignore\")"
   ]
  },
  {
   "cell_type": "code",
   "execution_count": 27,
   "id": "d328c3e3",
   "metadata": {},
   "outputs": [
    {
     "data": {
      "text/plain": [
       "(107211, 42)"
      ]
     },
     "execution_count": 27,
     "metadata": {},
     "output_type": "execute_result"
    }
   ],
   "source": [
    "# Load Dataset\n",
    "df =pd.read_csv(\"E:\\\\Research Related Work\\\\Fianal CSV\\\\combine7k100k40.csv\")\n",
    "df.shape"
   ]
  },
  {
   "cell_type": "code",
   "execution_count": 28,
   "id": "0cb12731",
   "metadata": {},
   "outputs": [
    {
     "data": {
      "text/html": [
       "<div>\n",
       "<style scoped>\n",
       "    .dataframe tbody tr th:only-of-type {\n",
       "        vertical-align: middle;\n",
       "    }\n",
       "\n",
       "    .dataframe tbody tr th {\n",
       "        vertical-align: top;\n",
       "    }\n",
       "\n",
       "    .dataframe thead th {\n",
       "        text-align: right;\n",
       "    }\n",
       "</style>\n",
       "<table border=\"1\" class=\"dataframe\">\n",
       "  <thead>\n",
       "    <tr style=\"text-align: right;\">\n",
       "      <th></th>\n",
       "      <th>Unnamed: 0</th>\n",
       "      <th>Energy</th>\n",
       "      <th>Corr</th>\n",
       "      <th>Diss_sim</th>\n",
       "      <th>Homogen</th>\n",
       "      <th>Contrast</th>\n",
       "      <th>Entropy</th>\n",
       "      <th>Haralick1</th>\n",
       "      <th>Haralick2</th>\n",
       "      <th>Haralick3</th>\n",
       "      <th>...</th>\n",
       "      <th>hu1</th>\n",
       "      <th>hu2</th>\n",
       "      <th>hu3</th>\n",
       "      <th>hu4</th>\n",
       "      <th>hu6</th>\n",
       "      <th>class</th>\n",
       "      <th>coarseness</th>\n",
       "      <th>contrast</th>\n",
       "      <th>directionality</th>\n",
       "      <th>roughness</th>\n",
       "    </tr>\n",
       "  </thead>\n",
       "  <tbody>\n",
       "    <tr>\n",
       "      <th>0</th>\n",
       "      <td>0</td>\n",
       "      <td>0.178920</td>\n",
       "      <td>0.786274</td>\n",
       "      <td>6.599315</td>\n",
       "      <td>0.409190</td>\n",
       "      <td>266.221593</td>\n",
       "      <td>4.930889</td>\n",
       "      <td>0.133171</td>\n",
       "      <td>157.548557</td>\n",
       "      <td>0.877184</td>\n",
       "      <td>...</td>\n",
       "      <td>2.197091</td>\n",
       "      <td>6.499417</td>\n",
       "      <td>7.954630</td>\n",
       "      <td>8.719217</td>\n",
       "      <td>12.059353</td>\n",
       "      <td>0</td>\n",
       "      <td>7.232243</td>\n",
       "      <td>11.838639</td>\n",
       "      <td>524.241477</td>\n",
       "      <td>19.070882</td>\n",
       "    </tr>\n",
       "    <tr>\n",
       "      <th>1</th>\n",
       "      <td>1</td>\n",
       "      <td>0.389069</td>\n",
       "      <td>0.887791</td>\n",
       "      <td>4.647942</td>\n",
       "      <td>0.638527</td>\n",
       "      <td>195.693025</td>\n",
       "      <td>4.117529</td>\n",
       "      <td>0.037307</td>\n",
       "      <td>182.556783</td>\n",
       "      <td>0.616758</td>\n",
       "      <td>...</td>\n",
       "      <td>1.964328</td>\n",
       "      <td>5.830540</td>\n",
       "      <td>8.081376</td>\n",
       "      <td>8.388579</td>\n",
       "      <td>11.313066</td>\n",
       "      <td>0</td>\n",
       "      <td>6.322784</td>\n",
       "      <td>5.852207</td>\n",
       "      <td>476.605065</td>\n",
       "      <td>12.174991</td>\n",
       "    </tr>\n",
       "    <tr>\n",
       "      <th>2</th>\n",
       "      <td>2</td>\n",
       "      <td>0.393111</td>\n",
       "      <td>0.619520</td>\n",
       "      <td>0.803672</td>\n",
       "      <td>0.716620</td>\n",
       "      <td>3.756186</td>\n",
       "      <td>2.137906</td>\n",
       "      <td>0.042651</td>\n",
       "      <td>280.438899</td>\n",
       "      <td>0.752334</td>\n",
       "      <td>...</td>\n",
       "      <td>2.022809</td>\n",
       "      <td>6.412916</td>\n",
       "      <td>8.012113</td>\n",
       "      <td>8.285929</td>\n",
       "      <td>-12.031307</td>\n",
       "      <td>0</td>\n",
       "      <td>7.384526</td>\n",
       "      <td>10.495720</td>\n",
       "      <td>1164.156497</td>\n",
       "      <td>17.880247</td>\n",
       "    </tr>\n",
       "    <tr>\n",
       "      <th>3</th>\n",
       "      <td>3</td>\n",
       "      <td>0.192022</td>\n",
       "      <td>0.799489</td>\n",
       "      <td>6.047906</td>\n",
       "      <td>0.444753</td>\n",
       "      <td>257.966268</td>\n",
       "      <td>4.527923</td>\n",
       "      <td>0.084406</td>\n",
       "      <td>181.747993</td>\n",
       "      <td>0.736726</td>\n",
       "      <td>...</td>\n",
       "      <td>2.000932</td>\n",
       "      <td>6.155571</td>\n",
       "      <td>7.979497</td>\n",
       "      <td>7.549322</td>\n",
       "      <td>10.661617</td>\n",
       "      <td>0</td>\n",
       "      <td>6.037169</td>\n",
       "      <td>7.026680</td>\n",
       "      <td>207.652122</td>\n",
       "      <td>13.063849</td>\n",
       "    </tr>\n",
       "    <tr>\n",
       "      <th>4</th>\n",
       "      <td>4</td>\n",
       "      <td>0.276384</td>\n",
       "      <td>0.823056</td>\n",
       "      <td>3.558016</td>\n",
       "      <td>0.568808</td>\n",
       "      <td>146.219971</td>\n",
       "      <td>3.419359</td>\n",
       "      <td>0.068655</td>\n",
       "      <td>147.920468</td>\n",
       "      <td>0.751789</td>\n",
       "      <td>...</td>\n",
       "      <td>1.992772</td>\n",
       "      <td>6.717633</td>\n",
       "      <td>7.917753</td>\n",
       "      <td>8.553030</td>\n",
       "      <td>-12.171937</td>\n",
       "      <td>0</td>\n",
       "      <td>6.604911</td>\n",
       "      <td>5.956984</td>\n",
       "      <td>622.106991</td>\n",
       "      <td>12.561894</td>\n",
       "    </tr>\n",
       "    <tr>\n",
       "      <th>...</th>\n",
       "      <td>...</td>\n",
       "      <td>...</td>\n",
       "      <td>...</td>\n",
       "      <td>...</td>\n",
       "      <td>...</td>\n",
       "      <td>...</td>\n",
       "      <td>...</td>\n",
       "      <td>...</td>\n",
       "      <td>...</td>\n",
       "      <td>...</td>\n",
       "      <td>...</td>\n",
       "      <td>...</td>\n",
       "      <td>...</td>\n",
       "      <td>...</td>\n",
       "      <td>...</td>\n",
       "      <td>...</td>\n",
       "      <td>...</td>\n",
       "      <td>...</td>\n",
       "      <td>...</td>\n",
       "      <td>...</td>\n",
       "      <td>...</td>\n",
       "    </tr>\n",
       "    <tr>\n",
       "      <th>107206</th>\n",
       "      <td>7174</td>\n",
       "      <td>0.009699</td>\n",
       "      <td>0.739877</td>\n",
       "      <td>23.487108</td>\n",
       "      <td>0.063606</td>\n",
       "      <td>1253.438181</td>\n",
       "      <td>7.580289</td>\n",
       "      <td>0.000635</td>\n",
       "      <td>402.469621</td>\n",
       "      <td>0.946864</td>\n",
       "      <td>...</td>\n",
       "      <td>2.663447</td>\n",
       "      <td>7.843077</td>\n",
       "      <td>10.172093</td>\n",
       "      <td>12.032694</td>\n",
       "      <td>-16.499769</td>\n",
       "      <td>8</td>\n",
       "      <td>6.566725</td>\n",
       "      <td>50.651852</td>\n",
       "      <td>279.842610</td>\n",
       "      <td>57.218577</td>\n",
       "    </tr>\n",
       "    <tr>\n",
       "      <th>107207</th>\n",
       "      <td>7175</td>\n",
       "      <td>0.024164</td>\n",
       "      <td>0.731407</td>\n",
       "      <td>26.684697</td>\n",
       "      <td>0.110827</td>\n",
       "      <td>1958.241111</td>\n",
       "      <td>7.466144</td>\n",
       "      <td>0.000618</td>\n",
       "      <td>808.134745</td>\n",
       "      <td>0.882292</td>\n",
       "      <td>...</td>\n",
       "      <td>2.886396</td>\n",
       "      <td>9.669045</td>\n",
       "      <td>11.245110</td>\n",
       "      <td>11.807647</td>\n",
       "      <td>16.689479</td>\n",
       "      <td>8</td>\n",
       "      <td>7.222716</td>\n",
       "      <td>37.814312</td>\n",
       "      <td>428.677320</td>\n",
       "      <td>45.037028</td>\n",
       "    </tr>\n",
       "    <tr>\n",
       "      <th>107208</th>\n",
       "      <td>7176</td>\n",
       "      <td>0.009427</td>\n",
       "      <td>0.636379</td>\n",
       "      <td>27.309717</td>\n",
       "      <td>0.056254</td>\n",
       "      <td>1665.195408</td>\n",
       "      <td>7.567869</td>\n",
       "      <td>0.000545</td>\n",
       "      <td>2553.152857</td>\n",
       "      <td>0.680206</td>\n",
       "      <td>...</td>\n",
       "      <td>2.693609</td>\n",
       "      <td>7.636186</td>\n",
       "      <td>9.654586</td>\n",
       "      <td>10.030314</td>\n",
       "      <td>14.088027</td>\n",
       "      <td>8</td>\n",
       "      <td>7.012915</td>\n",
       "      <td>49.211151</td>\n",
       "      <td>294.984140</td>\n",
       "      <td>56.224066</td>\n",
       "    </tr>\n",
       "    <tr>\n",
       "      <th>107209</th>\n",
       "      <td>7177</td>\n",
       "      <td>0.012891</td>\n",
       "      <td>0.898710</td>\n",
       "      <td>13.378884</td>\n",
       "      <td>0.098573</td>\n",
       "      <td>465.734585</td>\n",
       "      <td>7.500082</td>\n",
       "      <td>0.000086</td>\n",
       "      <td>1232.786444</td>\n",
       "      <td>0.744025</td>\n",
       "      <td>...</td>\n",
       "      <td>2.841735</td>\n",
       "      <td>9.009690</td>\n",
       "      <td>12.077912</td>\n",
       "      <td>11.829759</td>\n",
       "      <td>-16.613485</td>\n",
       "      <td>8</td>\n",
       "      <td>6.790936</td>\n",
       "      <td>36.945887</td>\n",
       "      <td>289.522066</td>\n",
       "      <td>43.736823</td>\n",
       "    </tr>\n",
       "    <tr>\n",
       "      <th>107210</th>\n",
       "      <td>7178</td>\n",
       "      <td>0.012891</td>\n",
       "      <td>0.798710</td>\n",
       "      <td>13.378884</td>\n",
       "      <td>0.099573</td>\n",
       "      <td>466.734585</td>\n",
       "      <td>7.500082</td>\n",
       "      <td>0.000605</td>\n",
       "      <td>1959.213336</td>\n",
       "      <td>0.731072</td>\n",
       "      <td>...</td>\n",
       "      <td>2.841735</td>\n",
       "      <td>9.009690</td>\n",
       "      <td>12.077912</td>\n",
       "      <td>11.829759</td>\n",
       "      <td>-16.613485</td>\n",
       "      <td>8</td>\n",
       "      <td>6.880936</td>\n",
       "      <td>36.945887</td>\n",
       "      <td>289.522066</td>\n",
       "      <td>56.736823</td>\n",
       "    </tr>\n",
       "  </tbody>\n",
       "</table>\n",
       "<p>107211 rows × 42 columns</p>\n",
       "</div>"
      ],
      "text/plain": [
       "        Unnamed: 0    Energy      Corr   Diss_sim   Homogen     Contrast  \\\n",
       "0                0  0.178920  0.786274   6.599315  0.409190   266.221593   \n",
       "1                1  0.389069  0.887791   4.647942  0.638527   195.693025   \n",
       "2                2  0.393111  0.619520   0.803672  0.716620     3.756186   \n",
       "3                3  0.192022  0.799489   6.047906  0.444753   257.966268   \n",
       "4                4  0.276384  0.823056   3.558016  0.568808   146.219971   \n",
       "...            ...       ...       ...        ...       ...          ...   \n",
       "107206        7174  0.009699  0.739877  23.487108  0.063606  1253.438181   \n",
       "107207        7175  0.024164  0.731407  26.684697  0.110827  1958.241111   \n",
       "107208        7176  0.009427  0.636379  27.309717  0.056254  1665.195408   \n",
       "107209        7177  0.012891  0.898710  13.378884  0.098573   465.734585   \n",
       "107210        7178  0.012891  0.798710  13.378884  0.099573   466.734585   \n",
       "\n",
       "         Entropy  Haralick1    Haralick2  Haralick3  ...       hu1       hu2  \\\n",
       "0       4.930889   0.133171   157.548557   0.877184  ...  2.197091  6.499417   \n",
       "1       4.117529   0.037307   182.556783   0.616758  ...  1.964328  5.830540   \n",
       "2       2.137906   0.042651   280.438899   0.752334  ...  2.022809  6.412916   \n",
       "3       4.527923   0.084406   181.747993   0.736726  ...  2.000932  6.155571   \n",
       "4       3.419359   0.068655   147.920468   0.751789  ...  1.992772  6.717633   \n",
       "...          ...        ...          ...        ...  ...       ...       ...   \n",
       "107206  7.580289   0.000635   402.469621   0.946864  ...  2.663447  7.843077   \n",
       "107207  7.466144   0.000618   808.134745   0.882292  ...  2.886396  9.669045   \n",
       "107208  7.567869   0.000545  2553.152857   0.680206  ...  2.693609  7.636186   \n",
       "107209  7.500082   0.000086  1232.786444   0.744025  ...  2.841735  9.009690   \n",
       "107210  7.500082   0.000605  1959.213336   0.731072  ...  2.841735  9.009690   \n",
       "\n",
       "              hu3        hu4        hu6  class  coarseness   contrast  \\\n",
       "0        7.954630   8.719217  12.059353      0    7.232243  11.838639   \n",
       "1        8.081376   8.388579  11.313066      0    6.322784   5.852207   \n",
       "2        8.012113   8.285929 -12.031307      0    7.384526  10.495720   \n",
       "3        7.979497   7.549322  10.661617      0    6.037169   7.026680   \n",
       "4        7.917753   8.553030 -12.171937      0    6.604911   5.956984   \n",
       "...           ...        ...        ...    ...         ...        ...   \n",
       "107206  10.172093  12.032694 -16.499769      8    6.566725  50.651852   \n",
       "107207  11.245110  11.807647  16.689479      8    7.222716  37.814312   \n",
       "107208   9.654586  10.030314  14.088027      8    7.012915  49.211151   \n",
       "107209  12.077912  11.829759 -16.613485      8    6.790936  36.945887   \n",
       "107210  12.077912  11.829759 -16.613485      8    6.880936  36.945887   \n",
       "\n",
       "        directionality  roughness  \n",
       "0           524.241477  19.070882  \n",
       "1           476.605065  12.174991  \n",
       "2          1164.156497  17.880247  \n",
       "3           207.652122  13.063849  \n",
       "4           622.106991  12.561894  \n",
       "...                ...        ...  \n",
       "107206      279.842610  57.218577  \n",
       "107207      428.677320  45.037028  \n",
       "107208      294.984140  56.224066  \n",
       "107209      289.522066  43.736823  \n",
       "107210      289.522066  56.736823  \n",
       "\n",
       "[107211 rows x 42 columns]"
      ]
     },
     "execution_count": 28,
     "metadata": {},
     "output_type": "execute_result"
    }
   ],
   "source": [
    "df"
   ]
  },
  {
   "cell_type": "code",
   "execution_count": null,
   "id": "02e259e9",
   "metadata": {},
   "outputs": [],
   "source": []
  },
  {
   "cell_type": "code",
   "execution_count": 29,
   "id": "ff827ad4",
   "metadata": {},
   "outputs": [],
   "source": [
    "df=df.drop(['Unnamed: 0'],axis=1)\n"
   ]
  },
  {
   "cell_type": "code",
   "execution_count": 30,
   "id": "252abdef",
   "metadata": {},
   "outputs": [
    {
     "name": "stdout",
     "output_type": "stream",
     "text": [
      "<class 'pandas.core.frame.DataFrame'>\n",
      "RangeIndex: 107211 entries, 0 to 107210\n",
      "Data columns (total 41 columns):\n",
      " #   Column              Non-Null Count   Dtype  \n",
      "---  ------              --------------   -----  \n",
      " 0   Energy              107211 non-null  float64\n",
      " 1   Corr                107211 non-null  float64\n",
      " 2   Diss_sim            107211 non-null  float64\n",
      " 3   Homogen             107211 non-null  float64\n",
      " 4   Contrast            107211 non-null  float64\n",
      " 5   Entropy             107211 non-null  float64\n",
      " 6   Haralick1           107211 non-null  float64\n",
      " 7   Haralick2           107211 non-null  float64\n",
      " 8   Haralick3           107211 non-null  float64\n",
      " 9   Haralick4           107211 non-null  float64\n",
      " 10  Haralick5           107211 non-null  float64\n",
      " 11  Haralick6           107211 non-null  float64\n",
      " 12  Haralick7           107211 non-null  float64\n",
      " 13  Haralick8           107211 non-null  float64\n",
      " 14  Haralick9           107211 non-null  float64\n",
      " 15  Haralick10          107211 non-null  float64\n",
      " 16  Haralick11          107211 non-null  float64\n",
      " 17  Haralick12          107211 non-null  float64\n",
      " 18  Haralick13          107211 non-null  float64\n",
      " 19  Circularity         107210 non-null  float64\n",
      " 20  EquivDiameter       107210 non-null  float64\n",
      " 21  Mean                107210 non-null  float64\n",
      " 22  Standard Deviation  107210 non-null  float64\n",
      " 23  Shannon_Entropy     107210 non-null  float64\n",
      " 24  Glcm_entropy        107210 non-null  float64\n",
      " 25  Skewness            107210 non-null  float64\n",
      " 26  kurtosis            107210 non-null  float64\n",
      " 27  lbp_energy          107210 non-null  float64\n",
      " 28  lbp_entropy         107208 non-null  float64\n",
      " 29  gabor_energy        107210 non-null  float64\n",
      " 30  gabor_entropy       105448 non-null  float64\n",
      " 31  hu1                 107211 non-null  float64\n",
      " 32  hu2                 107211 non-null  float64\n",
      " 33  hu3                 107211 non-null  float64\n",
      " 34  hu4                 107211 non-null  float64\n",
      " 35  hu6                 107211 non-null  float64\n",
      " 36  class               107211 non-null  int64  \n",
      " 37  coarseness          107211 non-null  float64\n",
      " 38  contrast            107211 non-null  float64\n",
      " 39  directionality      107042 non-null  float64\n",
      " 40  roughness           107211 non-null  float64\n",
      "dtypes: float64(40), int64(1)\n",
      "memory usage: 33.5 MB\n"
     ]
    }
   ],
   "source": [
    "df.info()"
   ]
  },
  {
   "cell_type": "code",
   "execution_count": 31,
   "id": "bf8e78c1",
   "metadata": {},
   "outputs": [
    {
     "data": {
      "text/plain": [
       "gabor_entropy         1763\n",
       "directionality         169\n",
       "lbp_entropy              3\n",
       "EquivDiameter            1\n",
       "Circularity              1\n",
       "Shannon_Entropy          1\n",
       "Glcm_entropy             1\n",
       "Skewness                 1\n",
       "kurtosis                 1\n",
       "lbp_energy               1\n",
       "gabor_energy             1\n",
       "Standard Deviation       1\n",
       "Mean                     1\n",
       "hu2                      0\n",
       "hu3                      0\n",
       "hu4                      0\n",
       "hu6                      0\n",
       "class                    0\n",
       "coarseness               0\n",
       "contrast                 0\n",
       "hu1                      0\n",
       "Energy                   0\n",
       "Corr                     0\n",
       "Haralick4                0\n",
       "Diss_sim                 0\n",
       "Homogen                  0\n",
       "Contrast                 0\n",
       "Entropy                  0\n",
       "Haralick1                0\n",
       "Haralick2                0\n",
       "Haralick3                0\n",
       "Haralick5                0\n",
       "Haralick13               0\n",
       "Haralick6                0\n",
       "Haralick7                0\n",
       "Haralick8                0\n",
       "Haralick9                0\n",
       "Haralick10               0\n",
       "Haralick11               0\n",
       "Haralick12               0\n",
       "roughness                0\n",
       "dtype: int64"
      ]
     },
     "execution_count": 31,
     "metadata": {},
     "output_type": "execute_result"
    }
   ],
   "source": [
    "df.isnull().sum().sort_values(ascending=False).head(100)"
   ]
  },
  {
   "cell_type": "code",
   "execution_count": 32,
   "id": "395a7cc5",
   "metadata": {},
   "outputs": [],
   "source": [
    "df=df.fillna(method='ffill')"
   ]
  },
  {
   "cell_type": "code",
   "execution_count": null,
   "id": "556632e7",
   "metadata": {},
   "outputs": [],
   "source": []
  },
  {
   "cell_type": "code",
   "execution_count": 33,
   "id": "42c25859",
   "metadata": {},
   "outputs": [],
   "source": [
    "y= df['class']\n",
    "X= df.drop('class', axis=1)\n"
   ]
  },
  {
   "cell_type": "code",
   "execution_count": null,
   "id": "5e0e216f",
   "metadata": {},
   "outputs": [],
   "source": []
  },
  {
   "cell_type": "code",
   "execution_count": 34,
   "id": "e4809fa1",
   "metadata": {},
   "outputs": [],
   "source": [
    "#y = np.array(y, dtype=np.int32)\n",
    "\n",
    "#X = np.array(X, dtype=np.int32)"
   ]
  },
  {
   "cell_type": "code",
   "execution_count": 35,
   "id": "d7aac589",
   "metadata": {},
   "outputs": [],
   "source": [
    "from sklearn.model_selection import train_test_split\n",
    "X_train, X_test, y_train, y_test = train_test_split(X, y,test_size=0.20 , random_state=42)\n"
   ]
  },
  {
   "cell_type": "code",
   "execution_count": 36,
   "id": "ae3c3606",
   "metadata": {},
   "outputs": [],
   "source": [
    "#X_train = np.array(X_train, dtype=np.int32)\n",
    "#from sklearn.preprocessing import StandardScaler\n",
    "#scaler = StandardScaler()\n",
    "#train = scaler.fit_transform(X)\n"
   ]
  },
  {
   "cell_type": "code",
   "execution_count": 48,
   "id": "e1284ea7",
   "metadata": {},
   "outputs": [],
   "source": [
    "from sklearn.preprocessing import MinMaxScaler\n",
    "scaler = MinMaxScaler(feature_range=(0,1))\n",
    "X_train = scaler.fit_transform(X_train)\n",
    "X_test  = scaler.transform(X_test)"
   ]
  },
  {
   "cell_type": "markdown",
   "id": "3a389605",
   "metadata": {},
   "source": [
    "# Univariate Feature Selection"
   ]
  },
  {
   "cell_type": "code",
   "execution_count": 49,
   "id": "cea70397",
   "metadata": {},
   "outputs": [
    {
     "name": "stdout",
     "output_type": "stream",
     "text": [
      "X_train.shape: (85768, 40)\n",
      "X_train_selected.shape: (85768, 40)\n"
     ]
    }
   ],
   "source": [
    "from sklearn.feature_selection import SelectKBest,chi2\n",
    "bestfeatures = SelectKBest(score_func=chi2, k=40)\n",
    "select = bestfeatures.fit(X_train,y_train)\n",
    "X_train_selected = select.transform(X_train)\n",
    "\n",
    "print(\"X_train.shape: {}\".format(X_train.shape))\n",
    "print(\"X_train_selected.shape: {}\".format(X_train_selected.shape))"
   ]
  },
  {
   "cell_type": "code",
   "execution_count": 50,
   "id": "a470106f",
   "metadata": {},
   "outputs": [
    {
     "data": {
      "text/plain": [
       "array([ True,  True,  True,  True,  True,  True,  True,  True,  True,\n",
       "        True,  True,  True,  True,  True,  True,  True,  True,  True,\n",
       "        True,  True,  True,  True,  True,  True,  True,  True,  True,\n",
       "        True,  True,  True,  True,  True,  True,  True,  True,  True,\n",
       "        True,  True,  True,  True])"
      ]
     },
     "execution_count": 50,
     "metadata": {},
     "output_type": "execute_result"
    }
   ],
   "source": [
    "mask = select.get_support()\n",
    "mask"
   ]
  },
  {
   "cell_type": "code",
   "execution_count": 51,
   "id": "9f374c21",
   "metadata": {},
   "outputs": [
    {
     "data": {
      "text/plain": [
       "([], [])"
      ]
     },
     "execution_count": 51,
     "metadata": {},
     "output_type": "execute_result"
    },
    {
     "data": {
      "image/png": "[encoded data removed]",
      "text/plain": [
       "<Figure size 1600x200 with 1 Axes>"
      ]
     },
     "metadata": {},
     "output_type": "display_data"
    }
   ],
   "source": [
    "import matplotlib.pyplot as plt\n",
    "plt.matshow(mask.reshape(1,-1),cmap='gray_r')\n",
    "plt.xlabel(\"samle index\")\n",
    "plt.yticks(())"
   ]
  },
  {
   "cell_type": "code",
   "execution_count": 16,
   "id": "98826a6f",
   "metadata": {},
   "outputs": [
    {
     "name": "stdout",
     "output_type": "stream",
     "text": [
      "Score with all features: 0.950\n",
      "Score with selected features: 0.950\n"
     ]
    }
   ],
   "source": [
    "from sklearn.ensemble import RandomForestClassifier\n",
    "X_test_selected = select.transform(X_test)\n",
    "\n",
    "model = RandomForestClassifier(n_estimators=100,random_state=42)\n",
    "model.fit (X_train,y_train)\n",
    "print(\"Score with all features: {:.3f}\".format(model.score(X_test,y_test)))\n",
    "\n",
    "model.fit (X_train_selected,y_train)\n",
    "print(\"Score with selected features: {:.3f}\".format(model.score(X_test_selected,y_test)))"
   ]
  },
  {
   "cell_type": "code",
   "execution_count": 55,
   "id": "b5493981",
   "metadata": {},
   "outputs": [
    {
     "ename": "AttributeError",
     "evalue": "'numpy.ndarray' object has no attribute 'columns'",
     "output_type": "error",
     "traceback": [
      "\u001b[1;31m---------------------------------------------------------------------------\u001b[0m",
      "\u001b[1;31mAttributeError\u001b[0m                            Traceback (most recent call last)",
      "\u001b[1;32m~\\AppData\\Local\\Temp\\ipykernel_908\\1013330067.py\u001b[0m in \u001b[0;36m<module>\u001b[1;34m\u001b[0m\n\u001b[1;32m----> 1\u001b[1;33m \u001b[0mname_col\u001b[0m\u001b[1;33m=\u001b[0m\u001b[0mpd\u001b[0m\u001b[1;33m.\u001b[0m\u001b[0mDataFrame\u001b[0m\u001b[1;33m(\u001b[0m\u001b[0mX_test_selected\u001b[0m\u001b[1;33m.\u001b[0m\u001b[0mcolumns\u001b[0m\u001b[1;33m)\u001b[0m\u001b[1;33m\u001b[0m\u001b[1;33m\u001b[0m\u001b[0m\n\u001b[0m",
      "\u001b[1;31mAttributeError\u001b[0m: 'numpy.ndarray' object has no attribute 'columns'"
     ]
    }
   ],
   "source": [
    "name_col=pd.DataFrame(X.columns)"
   ]
  },
  {
   "cell_type": "code",
   "execution_count": 53,
   "id": "49795d84",
   "metadata": {},
   "outputs": [
    {
     "data": {
      "text/html": [
       "<div>\n",
       "<style scoped>\n",
       "    .dataframe tbody tr th:only-of-type {\n",
       "        vertical-align: middle;\n",
       "    }\n",
       "\n",
       "    .dataframe tbody tr th {\n",
       "        vertical-align: top;\n",
       "    }\n",
       "\n",
       "    .dataframe thead th {\n",
       "        text-align: right;\n",
       "    }\n",
       "</style>\n",
       "<table border=\"1\" class=\"dataframe\">\n",
       "  <thead>\n",
       "    <tr style=\"text-align: right;\">\n",
       "      <th></th>\n",
       "      <th>0</th>\n",
       "    </tr>\n",
       "  </thead>\n",
       "  <tbody>\n",
       "    <tr>\n",
       "      <th>0</th>\n",
       "      <td>Energy</td>\n",
       "    </tr>\n",
       "    <tr>\n",
       "      <th>1</th>\n",
       "      <td>Corr</td>\n",
       "    </tr>\n",
       "    <tr>\n",
       "      <th>2</th>\n",
       "      <td>Diss_sim</td>\n",
       "    </tr>\n",
       "    <tr>\n",
       "      <th>3</th>\n",
       "      <td>Homogen</td>\n",
       "    </tr>\n",
       "    <tr>\n",
       "      <th>4</th>\n",
       "      <td>Contrast</td>\n",
       "    </tr>\n",
       "    <tr>\n",
       "      <th>5</th>\n",
       "      <td>Entropy</td>\n",
       "    </tr>\n",
       "    <tr>\n",
       "      <th>6</th>\n",
       "      <td>Haralick1</td>\n",
       "    </tr>\n",
       "    <tr>\n",
       "      <th>7</th>\n",
       "      <td>Haralick2</td>\n",
       "    </tr>\n",
       "    <tr>\n",
       "      <th>8</th>\n",
       "      <td>Haralick3</td>\n",
       "    </tr>\n",
       "    <tr>\n",
       "      <th>9</th>\n",
       "      <td>Haralick4</td>\n",
       "    </tr>\n",
       "    <tr>\n",
       "      <th>10</th>\n",
       "      <td>Haralick5</td>\n",
       "    </tr>\n",
       "    <tr>\n",
       "      <th>11</th>\n",
       "      <td>Haralick6</td>\n",
       "    </tr>\n",
       "    <tr>\n",
       "      <th>12</th>\n",
       "      <td>Haralick7</td>\n",
       "    </tr>\n",
       "    <tr>\n",
       "      <th>13</th>\n",
       "      <td>Haralick8</td>\n",
       "    </tr>\n",
       "    <tr>\n",
       "      <th>14</th>\n",
       "      <td>Haralick9</td>\n",
       "    </tr>\n",
       "    <tr>\n",
       "      <th>15</th>\n",
       "      <td>Haralick10</td>\n",
       "    </tr>\n",
       "    <tr>\n",
       "      <th>16</th>\n",
       "      <td>Haralick11</td>\n",
       "    </tr>\n",
       "    <tr>\n",
       "      <th>17</th>\n",
       "      <td>Haralick12</td>\n",
       "    </tr>\n",
       "    <tr>\n",
       "      <th>18</th>\n",
       "      <td>Haralick13</td>\n",
       "    </tr>\n",
       "    <tr>\n",
       "      <th>19</th>\n",
       "      <td>Circularity</td>\n",
       "    </tr>\n",
       "    <tr>\n",
       "      <th>20</th>\n",
       "      <td>EquivDiameter</td>\n",
       "    </tr>\n",
       "    <tr>\n",
       "      <th>21</th>\n",
       "      <td>Mean</td>\n",
       "    </tr>\n",
       "    <tr>\n",
       "      <th>22</th>\n",
       "      <td>Standard Deviation</td>\n",
       "    </tr>\n",
       "    <tr>\n",
       "      <th>23</th>\n",
       "      <td>Shannon_Entropy</td>\n",
       "    </tr>\n",
       "    <tr>\n",
       "      <th>24</th>\n",
       "      <td>Glcm_entropy</td>\n",
       "    </tr>\n",
       "    <tr>\n",
       "      <th>25</th>\n",
       "      <td>Skewness</td>\n",
       "    </tr>\n",
       "    <tr>\n",
       "      <th>26</th>\n",
       "      <td>kurtosis</td>\n",
       "    </tr>\n",
       "    <tr>\n",
       "      <th>27</th>\n",
       "      <td>lbp_energy</td>\n",
       "    </tr>\n",
       "    <tr>\n",
       "      <th>28</th>\n",
       "      <td>lbp_entropy</td>\n",
       "    </tr>\n",
       "    <tr>\n",
       "      <th>29</th>\n",
       "      <td>gabor_energy</td>\n",
       "    </tr>\n",
       "    <tr>\n",
       "      <th>30</th>\n",
       "      <td>gabor_entropy</td>\n",
       "    </tr>\n",
       "    <tr>\n",
       "      <th>31</th>\n",
       "      <td>hu1</td>\n",
       "    </tr>\n",
       "    <tr>\n",
       "      <th>32</th>\n",
       "      <td>hu2</td>\n",
       "    </tr>\n",
       "    <tr>\n",
       "      <th>33</th>\n",
       "      <td>hu3</td>\n",
       "    </tr>\n",
       "    <tr>\n",
       "      <th>34</th>\n",
       "      <td>hu4</td>\n",
       "    </tr>\n",
       "    <tr>\n",
       "      <th>35</th>\n",
       "      <td>hu6</td>\n",
       "    </tr>\n",
       "    <tr>\n",
       "      <th>36</th>\n",
       "      <td>coarseness</td>\n",
       "    </tr>\n",
       "    <tr>\n",
       "      <th>37</th>\n",
       "      <td>contrast</td>\n",
       "    </tr>\n",
       "    <tr>\n",
       "      <th>38</th>\n",
       "      <td>directionality</td>\n",
       "    </tr>\n",
       "    <tr>\n",
       "      <th>39</th>\n",
       "      <td>roughness</td>\n",
       "    </tr>\n",
       "  </tbody>\n",
       "</table>\n",
       "</div>"
      ],
      "text/plain": [
       "                     0\n",
       "0               Energy\n",
       "1                 Corr\n",
       "2             Diss_sim\n",
       "3              Homogen\n",
       "4             Contrast\n",
       "5              Entropy\n",
       "6            Haralick1\n",
       "7            Haralick2\n",
       "8            Haralick3\n",
       "9            Haralick4\n",
       "10           Haralick5\n",
       "11           Haralick6\n",
       "12           Haralick7\n",
       "13           Haralick8\n",
       "14           Haralick9\n",
       "15          Haralick10\n",
       "16          Haralick11\n",
       "17          Haralick12\n",
       "18          Haralick13\n",
       "19         Circularity\n",
       "20       EquivDiameter\n",
       "21                Mean\n",
       "22  Standard Deviation\n",
       "23     Shannon_Entropy\n",
       "24        Glcm_entropy\n",
       "25            Skewness\n",
       "26            kurtosis\n",
       "27          lbp_energy\n",
       "28         lbp_entropy\n",
       "29        gabor_energy\n",
       "30       gabor_entropy\n",
       "31                 hu1\n",
       "32                 hu2\n",
       "33                 hu3\n",
       "34                 hu4\n",
       "35                 hu6\n",
       "36          coarseness\n",
       "37            contrast\n",
       "38      directionality\n",
       "39           roughness"
      ]
     },
     "execution_count": 53,
     "metadata": {},
     "output_type": "execute_result"
    }
   ],
   "source": [
    "name_col"
   ]
  },
  {
   "cell_type": "code",
   "execution_count": 57,
   "id": "24f89687",
   "metadata": {
    "scrolled": false
   },
   "outputs": [
    {
     "ename": "NotFittedError",
     "evalue": "need to call fit or load_model beforehand",
     "output_type": "error",
     "traceback": [
      "\u001b[1;31m---------------------------------------------------------------------------\u001b[0m",
      "\u001b[1;31mNotFittedError\u001b[0m                            Traceback (most recent call last)",
      "\u001b[1;32m~\\AppData\\Local\\Temp\\ipykernel_908\\3069376586.py\u001b[0m in \u001b[0;36m<module>\u001b[1;34m\u001b[0m\n\u001b[1;32m----> 1\u001b[1;33m \u001b[0mfeat_importances\u001b[0m \u001b[1;33m=\u001b[0m \u001b[0mpd\u001b[0m\u001b[1;33m.\u001b[0m\u001b[0mSeries\u001b[0m\u001b[1;33m(\u001b[0m\u001b[0mmodel\u001b[0m\u001b[1;33m.\u001b[0m\u001b[0mfeature_importances_\u001b[0m\u001b[1;33m)\u001b[0m\u001b[1;33m\u001b[0m\u001b[1;33m\u001b[0m\u001b[0m\n\u001b[0m\u001b[0;32m      2\u001b[0m \u001b[0mfeat_importances\u001b[0m\u001b[1;33m.\u001b[0m\u001b[0mnlargest\u001b[0m\u001b[1;33m(\u001b[0m\u001b[1;36m40\u001b[0m\u001b[1;33m)\u001b[0m\u001b[1;33m.\u001b[0m\u001b[0mplot\u001b[0m\u001b[1;33m(\u001b[0m\u001b[0mkind\u001b[0m\u001b[1;33m=\u001b[0m\u001b[1;34m'barh'\u001b[0m\u001b[1;33m)\u001b[0m\u001b[1;33m\u001b[0m\u001b[1;33m\u001b[0m\u001b[0m\n\u001b[0;32m      3\u001b[0m \u001b[0mplt\u001b[0m\u001b[1;33m.\u001b[0m\u001b[0mshow\u001b[0m\u001b[1;33m(\u001b[0m\u001b[1;33m)\u001b[0m\u001b[1;33m\u001b[0m\u001b[1;33m\u001b[0m\u001b[0m\n",
      "\u001b[1;32m~\\anaconda3\\lib\\site-packages\\xgboost\\sklearn.py\u001b[0m in \u001b[0;36mfeature_importances_\u001b[1;34m(self)\u001b[0m\n\u001b[0;32m   1302\u001b[0m \u001b[1;33m\u001b[0m\u001b[0m\n\u001b[0;32m   1303\u001b[0m         \"\"\"\n\u001b[1;32m-> 1304\u001b[1;33m         \u001b[0mb\u001b[0m\u001b[1;33m:\u001b[0m \u001b[0mBooster\u001b[0m \u001b[1;33m=\u001b[0m \u001b[0mself\u001b[0m\u001b[1;33m.\u001b[0m\u001b[0mget_booster\u001b[0m\u001b[1;33m(\u001b[0m\u001b[1;33m)\u001b[0m\u001b[1;33m\u001b[0m\u001b[1;33m\u001b[0m\u001b[0m\n\u001b[0m\u001b[0;32m   1305\u001b[0m \u001b[1;33m\u001b[0m\u001b[0m\n\u001b[0;32m   1306\u001b[0m         \u001b[1;32mdef\u001b[0m \u001b[0mdft\u001b[0m\u001b[1;33m(\u001b[0m\u001b[1;33m)\u001b[0m \u001b[1;33m->\u001b[0m \u001b[0mstr\u001b[0m\u001b[1;33m:\u001b[0m\u001b[1;33m\u001b[0m\u001b[1;33m\u001b[0m\u001b[0m\n",
      "\u001b[1;32m~\\anaconda3\\lib\\site-packages\\xgboost\\sklearn.py\u001b[0m in \u001b[0;36mget_booster\u001b[1;34m(self)\u001b[0m\n\u001b[0;32m    647\u001b[0m             \u001b[1;32mfrom\u001b[0m \u001b[0msklearn\u001b[0m\u001b[1;33m.\u001b[0m\u001b[0mexceptions\u001b[0m \u001b[1;32mimport\u001b[0m \u001b[0mNotFittedError\u001b[0m\u001b[1;33m\u001b[0m\u001b[1;33m\u001b[0m\u001b[0m\n\u001b[0;32m    648\u001b[0m \u001b[1;33m\u001b[0m\u001b[0m\n\u001b[1;32m--> 649\u001b[1;33m             \u001b[1;32mraise\u001b[0m \u001b[0mNotFittedError\u001b[0m\u001b[1;33m(\u001b[0m\u001b[1;34m\"need to call fit or load_model beforehand\"\u001b[0m\u001b[1;33m)\u001b[0m\u001b[1;33m\u001b[0m\u001b[1;33m\u001b[0m\u001b[0m\n\u001b[0m\u001b[0;32m    650\u001b[0m         \u001b[1;32mreturn\u001b[0m \u001b[0mself\u001b[0m\u001b[1;33m.\u001b[0m\u001b[0m_Booster\u001b[0m\u001b[1;33m\u001b[0m\u001b[1;33m\u001b[0m\u001b[0m\n\u001b[0;32m    651\u001b[0m \u001b[1;33m\u001b[0m\u001b[0m\n",
      "\u001b[1;31mNotFittedError\u001b[0m: need to call fit or load_model beforehand"
     ]
    }
   ],
   "source": [
    "feat_importances = pd.Series(model.feature_importances_)\n",
    "feat_importances.nlargest(40).plot(kind='barh')\n",
    "plt.show()"
   ]
  },
  {
   "cell_type": "code",
   "execution_count": 18,
   "id": "828e1eb6",
   "metadata": {},
   "outputs": [
    {
     "name": "stdout",
     "output_type": "stream",
     "text": [
      "Score with all features: 0.976\n",
      "Score with selected features: 0.976\n"
     ]
    }
   ],
   "source": [
    "from xgboost import XGBClassifier\n",
    "X_test_selected = select.transform(X_test)\n",
    "\n",
    "model = XGBClassifier(n_estimators=100,random_state=100)\n",
    "model.fit (X_train,y_train)\n",
    "print(\"Score with all features: {:.3f}\".format(model.score(X_test,y_test)))\n",
    "\n",
    "model.fit (X_train_selected,y_train)\n",
    "print(\"Score with selected features: {:.3f}\".format(model.score(X_test_selected,y_test)))"
   ]
  },
  {
   "cell_type": "code",
   "execution_count": null,
   "id": "7b35f154",
   "metadata": {},
   "outputs": [],
   "source": []
  },
  {
   "cell_type": "markdown",
   "id": "e7760891",
   "metadata": {},
   "source": [
    "# Random Forest Feature_Importance"
   ]
  },
  {
   "cell_type": "code",
   "execution_count": 19,
   "id": "996a3843",
   "metadata": {},
   "outputs": [
    {
     "data": {
      "text/plain": [
       "array([0.0159404 , 0.02148172, 0.03147635, 0.02652292, 0.02815256,\n",
       "       0.03427707, 0.02124399, 0.03045302, 0.01929609, 0.02968809,\n",
       "       0.02327821, 0.03956399, 0.03310241, 0.02562512, 0.03476203,\n",
       "       0.01598348, 0.01945001, 0.01663959, 0.01521213, 0.02188791,\n",
       "       0.04038768, 0.029855  , 0.03196766, 0.03268999, 0.02707518,\n",
       "       0.03844499, 0.01683649, 0.0288245 , 0.02975013, 0.02367276,\n",
       "       0.01931923, 0.03488606, 0.01554822, 0.01369422, 0.01391139,\n",
       "       0.00444591, 0.0233754 , 0.02931131, 0.01529857, 0.02666818])"
      ]
     },
     "execution_count": 19,
     "metadata": {},
     "output_type": "execute_result"
    }
   ],
   "source": [
    "from sklearn.ensemble import RandomForestClassifier\n",
    "model = RandomForestClassifier()\n",
    "model.fit(X_train,y_train)\n",
    "model.feature_importances_"
   ]
  },
  {
   "cell_type": "code",
   "execution_count": 20,
   "id": "600827bf",
   "metadata": {},
   "outputs": [
    {
     "data": {
      "image/png": "[encoded data removed]",
      "text/plain": [
       "<Figure size 640x480 with 1 Axes>"
      ]
     },
     "metadata": {},
     "output_type": "display_data"
    }
   ],
   "source": [
    "feat_importances = pd.Series(model.feature_importances_)\n",
    "feat_importances.nlargest(40).plot(kind='barh')\n",
    "plt.show()"
   ]
  },
  {
   "cell_type": "code",
   "execution_count": 21,
   "id": "c5e729c5",
   "metadata": {},
   "outputs": [
    {
     "name": "stdout",
     "output_type": "stream",
     "text": [
      "X_train.shape: (85768, 40)\n",
      "X_train_selected.shape: (85768, 39)\n"
     ]
    }
   ],
   "source": [
    "from sklearn.feature_selection import SelectFromModel\n",
    "from sklearn.ensemble import RandomForestClassifier\n",
    "\n",
    "select = SelectFromModel(RandomForestClassifier(n_estimators=100,random_state=42),threshold=0.01)\n",
    "select.fit(X_train,y_train)\n",
    "X_train_selected = select.transform(X_train)\n",
    "\n",
    "print(\"X_train.shape: {}\".format(X_train.shape))\n",
    "print(\"X_train_selected.shape: {}\".format(X_train_selected.shape))"
   ]
  },
  {
   "cell_type": "code",
   "execution_count": 22,
   "id": "a0ad2431",
   "metadata": {},
   "outputs": [
    {
     "data": {
      "text/plain": [
       "array([ True,  True,  True,  True,  True,  True,  True,  True,  True,\n",
       "        True,  True,  True,  True,  True,  True,  True,  True,  True,\n",
       "        True,  True,  True,  True,  True,  True,  True,  True,  True,\n",
       "        True,  True,  True,  True,  True,  True,  True,  True, False,\n",
       "        True,  True,  True,  True])"
      ]
     },
     "execution_count": 22,
     "metadata": {},
     "output_type": "execute_result"
    }
   ],
   "source": [
    "mask = select.get_support()\n",
    "mask"
   ]
  },
  {
   "cell_type": "code",
   "execution_count": 23,
   "id": "ac23a486",
   "metadata": {},
   "outputs": [
    {
     "data": {
      "image/png": "[encoded data removed]",
      "text/plain": [
       "<Figure size 1600x200 with 1 Axes>"
      ]
     },
     "metadata": {},
     "output_type": "display_data"
    }
   ],
   "source": [
    "mask = select.get_support()\n",
    "\n",
    "plt.matshow(mask.reshape(1,-1),cmap=\"gray_r\")\n",
    "plt.xlabel(\"Sample index\")\n",
    "plt.yticks(())\n",
    "plt.show()"
   ]
  },
  {
   "cell_type": "code",
   "execution_count": 24,
   "id": "5b091a30",
   "metadata": {},
   "outputs": [
    {
     "name": "stdout",
     "output_type": "stream",
     "text": [
      "Score with all features: 0.950\n",
      "Score with selected features: 0.950\n"
     ]
    }
   ],
   "source": [
    "X_test_selected = select.transform(X_test)\n",
    "\n",
    "model = RandomForestClassifier(n_estimators=100,random_state=42)\n",
    "\n",
    "model.fit(X_train,y_train)\n",
    "print(\"Score with all features: {:.3f}\".format(model.score(X_test,y_test)))\n",
    "\n",
    "model.fit(X_train_selected,y_train)\n",
    "print(\"Score with selected features: {:.3f}\".format(model.score(X_test_selected,y_test)))"
   ]
  },
  {
   "cell_type": "code",
   "execution_count": null,
   "id": "2c50819c",
   "metadata": {},
   "outputs": [],
   "source": []
  },
  {
   "cell_type": "code",
   "execution_count": 25,
   "id": "76269c0f",
   "metadata": {},
   "outputs": [
    {
     "ename": "KeyboardInterrupt",
     "evalue": "",
     "output_type": "error",
     "traceback": [
      "\u001b[1;31m---------------------------------------------------------------------------\u001b[0m",
      "\u001b[1;31mKeyboardInterrupt\u001b[0m                         Traceback (most recent call last)",
      "\u001b[1;32m~\\AppData\\Local\\Temp\\ipykernel_908\\2840245552.py\u001b[0m in \u001b[0;36m<module>\u001b[1;34m\u001b[0m\n\u001b[0;32m      3\u001b[0m \u001b[1;33m\u001b[0m\u001b[0m\n\u001b[0;32m      4\u001b[0m \u001b[0mmodel\u001b[0m \u001b[1;33m=\u001b[0m \u001b[0mXGBClassifier\u001b[0m\u001b[1;33m(\u001b[0m\u001b[0mn_estimators\u001b[0m\u001b[1;33m=\u001b[0m\u001b[1;36m100\u001b[0m\u001b[1;33m,\u001b[0m\u001b[0mrandom_state\u001b[0m\u001b[1;33m=\u001b[0m\u001b[1;36m42\u001b[0m\u001b[1;33m)\u001b[0m\u001b[1;33m\u001b[0m\u001b[1;33m\u001b[0m\u001b[0m\n\u001b[1;32m----> 5\u001b[1;33m \u001b[0mmodel\u001b[0m\u001b[1;33m.\u001b[0m\u001b[0mfit\u001b[0m \u001b[1;33m(\u001b[0m\u001b[0mX_train\u001b[0m\u001b[1;33m,\u001b[0m\u001b[0my_train\u001b[0m\u001b[1;33m)\u001b[0m\u001b[1;33m\u001b[0m\u001b[1;33m\u001b[0m\u001b[0m\n\u001b[0m\u001b[0;32m      6\u001b[0m \u001b[0mprint\u001b[0m\u001b[1;33m(\u001b[0m\u001b[1;34m\"Score with all features: {:.3f}\"\u001b[0m\u001b[1;33m.\u001b[0m\u001b[0mformat\u001b[0m\u001b[1;33m(\u001b[0m\u001b[0mmodel\u001b[0m\u001b[1;33m.\u001b[0m\u001b[0mscore\u001b[0m\u001b[1;33m(\u001b[0m\u001b[0mX_test\u001b[0m\u001b[1;33m,\u001b[0m\u001b[0my_test\u001b[0m\u001b[1;33m)\u001b[0m\u001b[1;33m)\u001b[0m\u001b[1;33m)\u001b[0m\u001b[1;33m\u001b[0m\u001b[1;33m\u001b[0m\u001b[0m\n\u001b[0;32m      7\u001b[0m \u001b[1;33m\u001b[0m\u001b[0m\n",
      "\u001b[1;32m~\\anaconda3\\lib\\site-packages\\xgboost\\core.py\u001b[0m in \u001b[0;36minner_f\u001b[1;34m(*args, **kwargs)\u001b[0m\n\u001b[0;32m    618\u001b[0m             \u001b[1;32mfor\u001b[0m \u001b[0mk\u001b[0m\u001b[1;33m,\u001b[0m \u001b[0marg\u001b[0m \u001b[1;32min\u001b[0m \u001b[0mzip\u001b[0m\u001b[1;33m(\u001b[0m\u001b[0msig\u001b[0m\u001b[1;33m.\u001b[0m\u001b[0mparameters\u001b[0m\u001b[1;33m,\u001b[0m \u001b[0margs\u001b[0m\u001b[1;33m)\u001b[0m\u001b[1;33m:\u001b[0m\u001b[1;33m\u001b[0m\u001b[1;33m\u001b[0m\u001b[0m\n\u001b[0;32m    619\u001b[0m                 \u001b[0mkwargs\u001b[0m\u001b[1;33m[\u001b[0m\u001b[0mk\u001b[0m\u001b[1;33m]\u001b[0m \u001b[1;33m=\u001b[0m \u001b[0marg\u001b[0m\u001b[1;33m\u001b[0m\u001b[1;33m\u001b[0m\u001b[0m\n\u001b[1;32m--> 620\u001b[1;33m             \u001b[1;32mreturn\u001b[0m \u001b[0mfunc\u001b[0m\u001b[1;33m(\u001b[0m\u001b[1;33m**\u001b[0m\u001b[0mkwargs\u001b[0m\u001b[1;33m)\u001b[0m\u001b[1;33m\u001b[0m\u001b[1;33m\u001b[0m\u001b[0m\n\u001b[0m\u001b[0;32m    621\u001b[0m \u001b[1;33m\u001b[0m\u001b[0m\n\u001b[0;32m    622\u001b[0m         \u001b[1;32mreturn\u001b[0m \u001b[0minner_f\u001b[0m\u001b[1;33m\u001b[0m\u001b[1;33m\u001b[0m\u001b[0m\n",
      "\u001b[1;32m~\\anaconda3\\lib\\site-packages\\xgboost\\sklearn.py\u001b[0m in \u001b[0;36mfit\u001b[1;34m(self, X, y, sample_weight, base_margin, eval_set, eval_metric, early_stopping_rounds, verbose, xgb_model, sample_weight_eval_set, base_margin_eval_set, feature_weights, callbacks)\u001b[0m\n\u001b[0;32m   1514\u001b[0m             )\n\u001b[0;32m   1515\u001b[0m \u001b[1;33m\u001b[0m\u001b[0m\n\u001b[1;32m-> 1516\u001b[1;33m             self._Booster = train(\n\u001b[0m\u001b[0;32m   1517\u001b[0m                 \u001b[0mparams\u001b[0m\u001b[1;33m,\u001b[0m\u001b[1;33m\u001b[0m\u001b[1;33m\u001b[0m\u001b[0m\n\u001b[0;32m   1518\u001b[0m                 \u001b[0mtrain_dmatrix\u001b[0m\u001b[1;33m,\u001b[0m\u001b[1;33m\u001b[0m\u001b[1;33m\u001b[0m\u001b[0m\n",
      "\u001b[1;32m~\\anaconda3\\lib\\site-packages\\xgboost\\core.py\u001b[0m in \u001b[0;36minner_f\u001b[1;34m(*args, **kwargs)\u001b[0m\n\u001b[0;32m    618\u001b[0m             \u001b[1;32mfor\u001b[0m \u001b[0mk\u001b[0m\u001b[1;33m,\u001b[0m \u001b[0marg\u001b[0m \u001b[1;32min\u001b[0m \u001b[0mzip\u001b[0m\u001b[1;33m(\u001b[0m\u001b[0msig\u001b[0m\u001b[1;33m.\u001b[0m\u001b[0mparameters\u001b[0m\u001b[1;33m,\u001b[0m \u001b[0margs\u001b[0m\u001b[1;33m)\u001b[0m\u001b[1;33m:\u001b[0m\u001b[1;33m\u001b[0m\u001b[1;33m\u001b[0m\u001b[0m\n\u001b[0;32m    619\u001b[0m                 \u001b[0mkwargs\u001b[0m\u001b[1;33m[\u001b[0m\u001b[0mk\u001b[0m\u001b[1;33m]\u001b[0m \u001b[1;33m=\u001b[0m \u001b[0marg\u001b[0m\u001b[1;33m\u001b[0m\u001b[1;33m\u001b[0m\u001b[0m\n\u001b[1;32m--> 620\u001b[1;33m             \u001b[1;32mreturn\u001b[0m \u001b[0mfunc\u001b[0m\u001b[1;33m(\u001b[0m\u001b[1;33m**\u001b[0m\u001b[0mkwargs\u001b[0m\u001b[1;33m)\u001b[0m\u001b[1;33m\u001b[0m\u001b[1;33m\u001b[0m\u001b[0m\n\u001b[0m\u001b[0;32m    621\u001b[0m \u001b[1;33m\u001b[0m\u001b[0m\n\u001b[0;32m    622\u001b[0m         \u001b[1;32mreturn\u001b[0m \u001b[0minner_f\u001b[0m\u001b[1;33m\u001b[0m\u001b[1;33m\u001b[0m\u001b[0m\n",
      "\u001b[1;32m~\\anaconda3\\lib\\site-packages\\xgboost\\training.py\u001b[0m in \u001b[0;36mtrain\u001b[1;34m(params, dtrain, num_boost_round, evals, obj, feval, maximize, early_stopping_rounds, evals_result, verbose_eval, xgb_model, callbacks, custom_metric)\u001b[0m\n\u001b[0;32m    183\u001b[0m         \u001b[1;32mif\u001b[0m \u001b[0mcb_container\u001b[0m\u001b[1;33m.\u001b[0m\u001b[0mbefore_iteration\u001b[0m\u001b[1;33m(\u001b[0m\u001b[0mbst\u001b[0m\u001b[1;33m,\u001b[0m \u001b[0mi\u001b[0m\u001b[1;33m,\u001b[0m \u001b[0mdtrain\u001b[0m\u001b[1;33m,\u001b[0m \u001b[0mevals\u001b[0m\u001b[1;33m)\u001b[0m\u001b[1;33m:\u001b[0m\u001b[1;33m\u001b[0m\u001b[1;33m\u001b[0m\u001b[0m\n\u001b[0;32m    184\u001b[0m             \u001b[1;32mbreak\u001b[0m\u001b[1;33m\u001b[0m\u001b[1;33m\u001b[0m\u001b[0m\n\u001b[1;32m--> 185\u001b[1;33m         \u001b[0mbst\u001b[0m\u001b[1;33m.\u001b[0m\u001b[0mupdate\u001b[0m\u001b[1;33m(\u001b[0m\u001b[0mdtrain\u001b[0m\u001b[1;33m,\u001b[0m \u001b[0mi\u001b[0m\u001b[1;33m,\u001b[0m \u001b[0mobj\u001b[0m\u001b[1;33m)\u001b[0m\u001b[1;33m\u001b[0m\u001b[1;33m\u001b[0m\u001b[0m\n\u001b[0m\u001b[0;32m    186\u001b[0m         \u001b[1;32mif\u001b[0m \u001b[0mcb_container\u001b[0m\u001b[1;33m.\u001b[0m\u001b[0mafter_iteration\u001b[0m\u001b[1;33m(\u001b[0m\u001b[0mbst\u001b[0m\u001b[1;33m,\u001b[0m \u001b[0mi\u001b[0m\u001b[1;33m,\u001b[0m \u001b[0mdtrain\u001b[0m\u001b[1;33m,\u001b[0m \u001b[0mevals\u001b[0m\u001b[1;33m)\u001b[0m\u001b[1;33m:\u001b[0m\u001b[1;33m\u001b[0m\u001b[1;33m\u001b[0m\u001b[0m\n\u001b[0;32m    187\u001b[0m             \u001b[1;32mbreak\u001b[0m\u001b[1;33m\u001b[0m\u001b[1;33m\u001b[0m\u001b[0m\n",
      "\u001b[1;32m~\\anaconda3\\lib\\site-packages\\xgboost\\core.py\u001b[0m in \u001b[0;36mupdate\u001b[1;34m(self, dtrain, iteration, fobj)\u001b[0m\n\u001b[0;32m   1916\u001b[0m \u001b[1;33m\u001b[0m\u001b[0m\n\u001b[0;32m   1917\u001b[0m         \u001b[1;32mif\u001b[0m \u001b[0mfobj\u001b[0m \u001b[1;32mis\u001b[0m \u001b[1;32mNone\u001b[0m\u001b[1;33m:\u001b[0m\u001b[1;33m\u001b[0m\u001b[1;33m\u001b[0m\u001b[0m\n\u001b[1;32m-> 1918\u001b[1;33m             _check_call(_LIB.XGBoosterUpdateOneIter(self.handle,\n\u001b[0m\u001b[0;32m   1919\u001b[0m                                                     \u001b[0mctypes\u001b[0m\u001b[1;33m.\u001b[0m\u001b[0mc_int\u001b[0m\u001b[1;33m(\u001b[0m\u001b[0miteration\u001b[0m\u001b[1;33m)\u001b[0m\u001b[1;33m,\u001b[0m\u001b[1;33m\u001b[0m\u001b[1;33m\u001b[0m\u001b[0m\n\u001b[0;32m   1920\u001b[0m                                                     dtrain.handle))\n",
      "\u001b[1;31mKeyboardInterrupt\u001b[0m: "
     ]
    }
   ],
   "source": [
    "from xgboost import XGBClassifier\n",
    "X_test_selected = select.transform(X_test)\n",
    "\n",
    "model = XGBClassifier(n_estimators=100,random_state=42)\n",
    "model.fit (X_train,y_train)\n",
    "print(\"Score with all features: {:.3f}\".format(model.score(X_test,y_test)))\n",
    "\n",
    "model.fit (X_train_selected,y_train)\n",
    "print(\"Score with selected features: {:.3f}\".format(model.score(X_test_selected,y_test)))"
   ]
  },
  {
   "cell_type": "raw",
   "id": "0734af95",
   "metadata": {},
   "source": []
  },
  {
   "cell_type": "code",
   "execution_count": null,
   "id": "b794994e",
   "metadata": {},
   "outputs": [],
   "source": []
  },
  {
   "cell_type": "code",
   "execution_count": null,
   "id": "aebd476e",
   "metadata": {},
   "outputs": [],
   "source": []
  },
  {
   "cell_type": "code",
   "execution_count": null,
   "id": "7d0225eb",
   "metadata": {},
   "outputs": [],
   "source": []
  }
 ],
 "metadata": {
  "kernelspec": {
   "display_name": "Python 3 (ipykernel)",
   "language": "python",
   "name": "python3"
  },
  "language_info": {
   "codemirror_mode": {
    "name": "ipython",
    "version": 3
   },
   "file_extension": ".py",
   "mimetype": "text/x-python",
   "name": "python",
   "nbconvert_exporter": "python",
   "pygments_lexer": "ipython3",
   "version": "3.9.13"
  }
 },
 "nbformat": 4,
 "nbformat_minor": 5
}
