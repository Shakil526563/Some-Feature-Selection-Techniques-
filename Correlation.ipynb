{
 "cells": [
  {
   "cell_type": "markdown",
   "metadata": {},
   "source": [
    "## Feature Selection: Correlation\n",
    "\n",
    "**Correlation** of a variable tells that how is that variable related to the target. If the correlation between a variable and the target is \"1\", this means they are highly correlated and are bound by direct proportionality i.e. if variable value increases, the target value increases.\n",
    "\n",
    "If the correlation between the variable and the target is \"-1\",this means they are inversely correlated i.e. they are bound by an inverse relation i.e. if the value of the variable increases, the value for the target decreases.\n",
    "\n",
    "It is good to have a high correlation between the variable/feature and the target but not of much importance between two variables/features and in that cases, if we know one variable/feature, we can get the other by correlation."
   ]
  },
  {
   "cell_type": "code",
   "execution_count": 181,
   "metadata": {},
   "outputs": [],
   "source": [
    "# Import Dependencies\n",
    "import numpy as np\n",
    "import pandas as pd\n",
    "import seaborn as sns\n",
    "import matplotlib.pyplot as plt\n",
    "from sklearn.model_selection import train_test_split\n",
    "%matplotlib inline"
   ]
  },
  {
   "cell_type": "code",
   "execution_count": 182,
   "metadata": {},
   "outputs": [
    {
     "data": {
      "text/plain": [
       "(100032, 57)"
      ]
     },
     "execution_count": 182,
     "metadata": {},
     "output_type": "execute_result"
    }
   ],
   "source": [
    "# Load Dataset\n",
    "df = pd.read_csv(\"E:\\\\Research Related Work\\\\handcrafted csv\\\\fullhandcrafted 74\\\\handcrafted44feature.csv\")\n",
    "df.shape"
   ]
  },
  {
   "cell_type": "code",
   "execution_count": 183,
   "metadata": {},
   "outputs": [
    {
     "data": {
      "text/html": [
       "<div>\n",
       "<style scoped>\n",
       "    .dataframe tbody tr th:only-of-type {\n",
       "        vertical-align: middle;\n",
       "    }\n",
       "\n",
       "    .dataframe tbody tr th {\n",
       "        vertical-align: top;\n",
       "    }\n",
       "\n",
       "    .dataframe thead th {\n",
       "        text-align: right;\n",
       "    }\n",
       "</style>\n",
       "<table border=\"1\" class=\"dataframe\">\n",
       "  <thead>\n",
       "    <tr style=\"text-align: right;\">\n",
       "      <th></th>\n",
       "      <th>Unnamed: 0</th>\n",
       "      <th>Energy</th>\n",
       "      <th>Corr</th>\n",
       "      <th>Diss_sim</th>\n",
       "      <th>Homogen</th>\n",
       "      <th>Contrast</th>\n",
       "      <th>Entropy</th>\n",
       "      <th>Haralick1</th>\n",
       "      <th>Haralick2</th>\n",
       "      <th>Haralick3</th>\n",
       "      <th>...</th>\n",
       "      <th>deg90_SRE</th>\n",
       "      <th>deg135_SRE</th>\n",
       "      <th>deg0_GLN</th>\n",
       "      <th>deg45_GLN</th>\n",
       "      <th>deg90_GLN</th>\n",
       "      <th>deg135_GLN</th>\n",
       "      <th>deg0_RLN</th>\n",
       "      <th>deg45_RLN</th>\n",
       "      <th>deg90_RLN</th>\n",
       "      <th>deg135_RLN</th>\n",
       "    </tr>\n",
       "  </thead>\n",
       "  <tbody>\n",
       "    <tr>\n",
       "      <th>0</th>\n",
       "      <td>0</td>\n",
       "      <td>0.178920</td>\n",
       "      <td>0.786274</td>\n",
       "      <td>6.599315</td>\n",
       "      <td>0.409190</td>\n",
       "      <td>266.221593</td>\n",
       "      <td>4.930889</td>\n",
       "      <td>0.133171</td>\n",
       "      <td>157.548557</td>\n",
       "      <td>0.877184</td>\n",
       "      <td>...</td>\n",
       "      <td>0.877747</td>\n",
       "      <td>0.873169</td>\n",
       "      <td>1613.299745</td>\n",
       "      <td>1954.871867</td>\n",
       "      <td>1768.692086</td>\n",
       "      <td>1945.531581</td>\n",
       "      <td>26600.392420</td>\n",
       "      <td>27867.82035</td>\n",
       "      <td>27013.51277</td>\n",
       "      <td>27599.67391</td>\n",
       "    </tr>\n",
       "    <tr>\n",
       "      <th>1</th>\n",
       "      <td>1</td>\n",
       "      <td>0.389069</td>\n",
       "      <td>0.887791</td>\n",
       "      <td>4.647942</td>\n",
       "      <td>0.638527</td>\n",
       "      <td>195.693025</td>\n",
       "      <td>4.117529</td>\n",
       "      <td>0.037307</td>\n",
       "      <td>182.556783</td>\n",
       "      <td>0.616758</td>\n",
       "      <td>...</td>\n",
       "      <td>0.850296</td>\n",
       "      <td>0.848700</td>\n",
       "      <td>654.952164</td>\n",
       "      <td>885.259897</td>\n",
       "      <td>582.231608</td>\n",
       "      <td>878.775062</td>\n",
       "      <td>15479.489050</td>\n",
       "      <td>16295.40736</td>\n",
       "      <td>14306.91431</td>\n",
       "      <td>16431.16822</td>\n",
       "    </tr>\n",
       "    <tr>\n",
       "      <th>2</th>\n",
       "      <td>2</td>\n",
       "      <td>0.393111</td>\n",
       "      <td>0.619520</td>\n",
       "      <td>0.803672</td>\n",
       "      <td>0.716620</td>\n",
       "      <td>3.756186</td>\n",
       "      <td>2.137906</td>\n",
       "      <td>0.042651</td>\n",
       "      <td>280.438899</td>\n",
       "      <td>0.752334</td>\n",
       "      <td>...</td>\n",
       "      <td>0.706901</td>\n",
       "      <td>0.705952</td>\n",
       "      <td>4667.887565</td>\n",
       "      <td>6083.440053</td>\n",
       "      <td>4910.608728</td>\n",
       "      <td>6047.572288</td>\n",
       "      <td>9852.403372</td>\n",
       "      <td>12125.57156</td>\n",
       "      <td>10638.05948</td>\n",
       "      <td>12254.77522</td>\n",
       "    </tr>\n",
       "    <tr>\n",
       "      <th>3</th>\n",
       "      <td>3</td>\n",
       "      <td>0.192022</td>\n",
       "      <td>0.799489</td>\n",
       "      <td>6.047906</td>\n",
       "      <td>0.444753</td>\n",
       "      <td>257.966268</td>\n",
       "      <td>4.527923</td>\n",
       "      <td>0.084406</td>\n",
       "      <td>181.747993</td>\n",
       "      <td>0.736726</td>\n",
       "      <td>...</td>\n",
       "      <td>0.865229</td>\n",
       "      <td>0.860748</td>\n",
       "      <td>2324.284473</td>\n",
       "      <td>2777.946456</td>\n",
       "      <td>2505.605670</td>\n",
       "      <td>2790.690393</td>\n",
       "      <td>24217.492890</td>\n",
       "      <td>26415.88480</td>\n",
       "      <td>25769.20033</td>\n",
       "      <td>26429.59295</td>\n",
       "    </tr>\n",
       "    <tr>\n",
       "      <th>4</th>\n",
       "      <td>4</td>\n",
       "      <td>0.276384</td>\n",
       "      <td>0.823056</td>\n",
       "      <td>3.558016</td>\n",
       "      <td>0.568808</td>\n",
       "      <td>146.219971</td>\n",
       "      <td>3.419359</td>\n",
       "      <td>0.068655</td>\n",
       "      <td>147.920468</td>\n",
       "      <td>0.751789</td>\n",
       "      <td>...</td>\n",
       "      <td>0.811272</td>\n",
       "      <td>0.795297</td>\n",
       "      <td>3577.451586</td>\n",
       "      <td>4313.820300</td>\n",
       "      <td>3864.236769</td>\n",
       "      <td>4307.873688</td>\n",
       "      <td>17200.988090</td>\n",
       "      <td>19108.50634</td>\n",
       "      <td>19075.50255</td>\n",
       "      <td>19034.67483</td>\n",
       "    </tr>\n",
       "  </tbody>\n",
       "</table>\n",
       "<p>5 rows × 57 columns</p>\n",
       "</div>"
      ],
      "text/plain": [
       "   Unnamed: 0    Energy      Corr  Diss_sim   Homogen    Contrast   Entropy  \\\n",
       "0           0  0.178920  0.786274  6.599315  0.409190  266.221593  4.930889   \n",
       "1           1  0.389069  0.887791  4.647942  0.638527  195.693025  4.117529   \n",
       "2           2  0.393111  0.619520  0.803672  0.716620    3.756186  2.137906   \n",
       "3           3  0.192022  0.799489  6.047906  0.444753  257.966268  4.527923   \n",
       "4           4  0.276384  0.823056  3.558016  0.568808  146.219971  3.419359   \n",
       "\n",
       "   Haralick1   Haralick2  Haralick3  ...  deg90_SRE  deg135_SRE     deg0_GLN  \\\n",
       "0   0.133171  157.548557   0.877184  ...   0.877747    0.873169  1613.299745   \n",
       "1   0.037307  182.556783   0.616758  ...   0.850296    0.848700   654.952164   \n",
       "2   0.042651  280.438899   0.752334  ...   0.706901    0.705952  4667.887565   \n",
       "3   0.084406  181.747993   0.736726  ...   0.865229    0.860748  2324.284473   \n",
       "4   0.068655  147.920468   0.751789  ...   0.811272    0.795297  3577.451586   \n",
       "\n",
       "     deg45_GLN    deg90_GLN   deg135_GLN      deg0_RLN    deg45_RLN  \\\n",
       "0  1954.871867  1768.692086  1945.531581  26600.392420  27867.82035   \n",
       "1   885.259897   582.231608   878.775062  15479.489050  16295.40736   \n",
       "2  6083.440053  4910.608728  6047.572288   9852.403372  12125.57156   \n",
       "3  2777.946456  2505.605670  2790.690393  24217.492890  26415.88480   \n",
       "4  4313.820300  3864.236769  4307.873688  17200.988090  19108.50634   \n",
       "\n",
       "     deg90_RLN   deg135_RLN  \n",
       "0  27013.51277  27599.67391  \n",
       "1  14306.91431  16431.16822  \n",
       "2  10638.05948  12254.77522  \n",
       "3  25769.20033  26429.59295  \n",
       "4  19075.50255  19034.67483  \n",
       "\n",
       "[5 rows x 57 columns]"
      ]
     },
     "execution_count": 183,
     "metadata": {},
     "output_type": "execute_result"
    }
   ],
   "source": [
    "df.head()"
   ]
  },
  {
   "cell_type": "code",
   "execution_count": 184,
   "metadata": {},
   "outputs": [],
   "source": [
    "df=df.drop(['Unnamed: 0'],axis=1)\n"
   ]
  },
  {
   "cell_type": "code",
   "execution_count": 185,
   "metadata": {},
   "outputs": [],
   "source": [
    "# Get Numerical features from dataset\n",
    "numerics = ['int16', 'int32','int64', 'float16', 'float32', 'float64']\n",
    "numerical_features = list(df.select_dtypes(include=numerics).columns)"
   ]
  },
  {
   "cell_type": "code",
   "execution_count": 186,
   "metadata": {},
   "outputs": [],
   "source": [
    "df=df.fillna(method='ffill')"
   ]
  },
  {
   "cell_type": "code",
   "execution_count": 187,
   "metadata": {},
   "outputs": [],
   "source": [
    "data = df[numerical_features]"
   ]
  },
  {
   "cell_type": "code",
   "execution_count": 188,
   "metadata": {},
   "outputs": [
    {
     "data": {
      "text/plain": [
       "(100032, 56)"
      ]
     },
     "execution_count": 188,
     "metadata": {},
     "output_type": "execute_result"
    }
   ],
   "source": [
    "data.shape"
   ]
  },
  {
   "cell_type": "code",
   "execution_count": 189,
   "metadata": {},
   "outputs": [
    {
     "data": {
      "text/html": [
       "<div>\n",
       "<style scoped>\n",
       "    .dataframe tbody tr th:only-of-type {\n",
       "        vertical-align: middle;\n",
       "    }\n",
       "\n",
       "    .dataframe tbody tr th {\n",
       "        vertical-align: top;\n",
       "    }\n",
       "\n",
       "    .dataframe thead th {\n",
       "        text-align: right;\n",
       "    }\n",
       "</style>\n",
       "<table border=\"1\" class=\"dataframe\">\n",
       "  <thead>\n",
       "    <tr style=\"text-align: right;\">\n",
       "      <th></th>\n",
       "      <th>Energy</th>\n",
       "      <th>Corr</th>\n",
       "      <th>Diss_sim</th>\n",
       "      <th>Homogen</th>\n",
       "      <th>Contrast</th>\n",
       "      <th>Entropy</th>\n",
       "      <th>Haralick1</th>\n",
       "      <th>Haralick2</th>\n",
       "      <th>Haralick3</th>\n",
       "      <th>Haralick4</th>\n",
       "      <th>...</th>\n",
       "      <th>deg90_SRE</th>\n",
       "      <th>deg135_SRE</th>\n",
       "      <th>deg0_GLN</th>\n",
       "      <th>deg45_GLN</th>\n",
       "      <th>deg90_GLN</th>\n",
       "      <th>deg135_GLN</th>\n",
       "      <th>deg0_RLN</th>\n",
       "      <th>deg45_RLN</th>\n",
       "      <th>deg90_RLN</th>\n",
       "      <th>deg135_RLN</th>\n",
       "    </tr>\n",
       "  </thead>\n",
       "  <tbody>\n",
       "    <tr>\n",
       "      <th>0</th>\n",
       "      <td>0.178920</td>\n",
       "      <td>0.786274</td>\n",
       "      <td>6.599315</td>\n",
       "      <td>0.409190</td>\n",
       "      <td>266.221593</td>\n",
       "      <td>4.930889</td>\n",
       "      <td>0.133171</td>\n",
       "      <td>157.548557</td>\n",
       "      <td>0.877184</td>\n",
       "      <td>641.269492</td>\n",
       "      <td>...</td>\n",
       "      <td>0.877747</td>\n",
       "      <td>0.873169</td>\n",
       "      <td>1613.299745</td>\n",
       "      <td>1954.871867</td>\n",
       "      <td>1768.692086</td>\n",
       "      <td>1945.531581</td>\n",
       "      <td>26600.392420</td>\n",
       "      <td>27867.82035</td>\n",
       "      <td>27013.51277</td>\n",
       "      <td>27599.67391</td>\n",
       "    </tr>\n",
       "    <tr>\n",
       "      <th>1</th>\n",
       "      <td>0.389069</td>\n",
       "      <td>0.887791</td>\n",
       "      <td>4.647942</td>\n",
       "      <td>0.638527</td>\n",
       "      <td>195.693025</td>\n",
       "      <td>4.117529</td>\n",
       "      <td>0.037307</td>\n",
       "      <td>182.556783</td>\n",
       "      <td>0.616758</td>\n",
       "      <td>238.161603</td>\n",
       "      <td>...</td>\n",
       "      <td>0.850296</td>\n",
       "      <td>0.848700</td>\n",
       "      <td>654.952164</td>\n",
       "      <td>885.259897</td>\n",
       "      <td>582.231608</td>\n",
       "      <td>878.775062</td>\n",
       "      <td>15479.489050</td>\n",
       "      <td>16295.40736</td>\n",
       "      <td>14306.91431</td>\n",
       "      <td>16431.16822</td>\n",
       "    </tr>\n",
       "    <tr>\n",
       "      <th>2</th>\n",
       "      <td>0.393111</td>\n",
       "      <td>0.619520</td>\n",
       "      <td>0.803672</td>\n",
       "      <td>0.716620</td>\n",
       "      <td>3.756186</td>\n",
       "      <td>2.137906</td>\n",
       "      <td>0.042651</td>\n",
       "      <td>280.438899</td>\n",
       "      <td>0.752334</td>\n",
       "      <td>566.239784</td>\n",
       "      <td>...</td>\n",
       "      <td>0.706901</td>\n",
       "      <td>0.705952</td>\n",
       "      <td>4667.887565</td>\n",
       "      <td>6083.440053</td>\n",
       "      <td>4910.608728</td>\n",
       "      <td>6047.572288</td>\n",
       "      <td>9852.403372</td>\n",
       "      <td>12125.57156</td>\n",
       "      <td>10638.05948</td>\n",
       "      <td>12254.77522</td>\n",
       "    </tr>\n",
       "    <tr>\n",
       "      <th>3</th>\n",
       "      <td>0.192022</td>\n",
       "      <td>0.799489</td>\n",
       "      <td>6.047906</td>\n",
       "      <td>0.444753</td>\n",
       "      <td>257.966268</td>\n",
       "      <td>4.527923</td>\n",
       "      <td>0.084406</td>\n",
       "      <td>181.747993</td>\n",
       "      <td>0.736726</td>\n",
       "      <td>345.006750</td>\n",
       "      <td>...</td>\n",
       "      <td>0.865229</td>\n",
       "      <td>0.860748</td>\n",
       "      <td>2324.284473</td>\n",
       "      <td>2777.946456</td>\n",
       "      <td>2505.605670</td>\n",
       "      <td>2790.690393</td>\n",
       "      <td>24217.492890</td>\n",
       "      <td>26415.88480</td>\n",
       "      <td>25769.20033</td>\n",
       "      <td>26429.59295</td>\n",
       "    </tr>\n",
       "    <tr>\n",
       "      <th>4</th>\n",
       "      <td>0.276384</td>\n",
       "      <td>0.823056</td>\n",
       "      <td>3.558016</td>\n",
       "      <td>0.568808</td>\n",
       "      <td>146.219971</td>\n",
       "      <td>3.419359</td>\n",
       "      <td>0.068655</td>\n",
       "      <td>147.920468</td>\n",
       "      <td>0.751789</td>\n",
       "      <td>297.918001</td>\n",
       "      <td>...</td>\n",
       "      <td>0.811272</td>\n",
       "      <td>0.795297</td>\n",
       "      <td>3577.451586</td>\n",
       "      <td>4313.820300</td>\n",
       "      <td>3864.236769</td>\n",
       "      <td>4307.873688</td>\n",
       "      <td>17200.988090</td>\n",
       "      <td>19108.50634</td>\n",
       "      <td>19075.50255</td>\n",
       "      <td>19034.67483</td>\n",
       "    </tr>\n",
       "  </tbody>\n",
       "</table>\n",
       "<p>5 rows × 56 columns</p>\n",
       "</div>"
      ],
      "text/plain": [
       "     Energy      Corr  Diss_sim   Homogen    Contrast   Entropy  Haralick1  \\\n",
       "0  0.178920  0.786274  6.599315  0.409190  266.221593  4.930889   0.133171   \n",
       "1  0.389069  0.887791  4.647942  0.638527  195.693025  4.117529   0.037307   \n",
       "2  0.393111  0.619520  0.803672  0.716620    3.756186  2.137906   0.042651   \n",
       "3  0.192022  0.799489  6.047906  0.444753  257.966268  4.527923   0.084406   \n",
       "4  0.276384  0.823056  3.558016  0.568808  146.219971  3.419359   0.068655   \n",
       "\n",
       "    Haralick2  Haralick3   Haralick4  ...  deg90_SRE  deg135_SRE     deg0_GLN  \\\n",
       "0  157.548557   0.877184  641.269492  ...   0.877747    0.873169  1613.299745   \n",
       "1  182.556783   0.616758  238.161603  ...   0.850296    0.848700   654.952164   \n",
       "2  280.438899   0.752334  566.239784  ...   0.706901    0.705952  4667.887565   \n",
       "3  181.747993   0.736726  345.006750  ...   0.865229    0.860748  2324.284473   \n",
       "4  147.920468   0.751789  297.918001  ...   0.811272    0.795297  3577.451586   \n",
       "\n",
       "     deg45_GLN    deg90_GLN   deg135_GLN      deg0_RLN    deg45_RLN  \\\n",
       "0  1954.871867  1768.692086  1945.531581  26600.392420  27867.82035   \n",
       "1   885.259897   582.231608   878.775062  15479.489050  16295.40736   \n",
       "2  6083.440053  4910.608728  6047.572288   9852.403372  12125.57156   \n",
       "3  2777.946456  2505.605670  2790.690393  24217.492890  26415.88480   \n",
       "4  4313.820300  3864.236769  4307.873688  17200.988090  19108.50634   \n",
       "\n",
       "     deg90_RLN   deg135_RLN  \n",
       "0  27013.51277  27599.67391  \n",
       "1  14306.91431  16431.16822  \n",
       "2  10638.05948  12254.77522  \n",
       "3  25769.20033  26429.59295  \n",
       "4  19075.50255  19034.67483  \n",
       "\n",
       "[5 rows x 56 columns]"
      ]
     },
     "execution_count": 189,
     "metadata": {},
     "output_type": "execute_result"
    }
   ],
   "source": [
    "data.head()"
   ]
  },
  {
   "cell_type": "code",
   "execution_count": 190,
   "metadata": {},
   "outputs": [],
   "source": [
    "y= data['class']\n",
    "X= data.drop('class', axis=1)\n"
   ]
  },
  {
   "cell_type": "code",
   "execution_count": 191,
   "metadata": {},
   "outputs": [
    {
     "data": {
      "text/plain": [
       "(100032,)"
      ]
     },
     "execution_count": 191,
     "metadata": {},
     "output_type": "execute_result"
    }
   ],
   "source": [
    "y = data['class']\n",
    "y.shape"
   ]
  },
  {
   "cell_type": "code",
   "execution_count": 192,
   "metadata": {},
   "outputs": [
    {
     "data": {
      "text/plain": [
       "((70022, 55), (70022,), (30010, 55), (30010,))"
      ]
     },
     "execution_count": 192,
     "metadata": {},
     "output_type": "execute_result"
    }
   ],
   "source": [
    "# Train Test Split\n",
    "X_train, X_test, y_train, y_test = train_test_split(X, y, test_size=0.3, random_state=101)\n",
    "X_train.shape, y_train.shape, X_test.shape, y_test.shape"
   ]
  },
  {
   "cell_type": "code",
   "execution_count": 193,
   "metadata": {},
   "outputs": [
    {
     "data": {
      "text/plain": [
       "<AxesSubplot:>"
      ]
     },
     "execution_count": 193,
     "metadata": {},
     "output_type": "execute_result"
    },
    {
     "data": {
      "image/png": "[encoded data removed]",
      "text/plain": [
       "<Figure size 1100x1100 with 2 Axes>"
      ]
     },
     "metadata": {},
     "output_type": "display_data"
    }
   ],
   "source": [
    "# Visualize Correlated Features\n",
    "corr = X_train.corr()\n",
    "fig, ax = plt.subplots()\n",
    "fig.set_size_inches(11,11)\n",
    "sns.heatmap(corr)"
   ]
  },
  {
   "cell_type": "markdown",
   "metadata": {},
   "source": [
    "### Brute Force Method to Find Correlated Features"
   ]
  },
  {
   "cell_type": "code",
   "execution_count": 194,
   "metadata": {},
   "outputs": [],
   "source": [
    "# Brute Force Method to find Correlation between features\n",
    "def correlation(data, threshold=None):\n",
    "    # Set of all names of correlated columns\n",
    "    col_corr = set()\n",
    "    corr_mat = data.corr()\n",
    "    for i in range(len(corr_mat.columns)):\n",
    "        for j in range(i):\n",
    "            if (abs(corr_mat.iloc[i,j]) > threshold):\n",
    "                colname = corr_mat.columns[i]\n",
    "                col_corr.add(colname)\n",
    "    return col_corr"
   ]
  },
  {
   "cell_type": "code",
   "execution_count": 195,
   "metadata": {},
   "outputs": [
    {
     "data": {
      "text/plain": [
       "53"
      ]
     },
     "execution_count": 195,
     "metadata": {},
     "output_type": "execute_result"
    }
   ],
   "source": [
    "correlated_features = correlation(data=X_train, threshold=0.015)\n",
    "len(set(correlated_features))"
   ]
  },
  {
   "cell_type": "code",
   "execution_count": 196,
   "metadata": {},
   "outputs": [
    {
     "data": {
      "text/plain": [
       "{'Circularity',\n",
       " 'Contrast',\n",
       " 'Corr',\n",
       " 'Diss_sim',\n",
       " 'Entropy',\n",
       " 'EquivDiameter',\n",
       " 'Glcm_entropy',\n",
       " 'Haralick1',\n",
       " 'Haralick10',\n",
       " 'Haralick11',\n",
       " 'Haralick12',\n",
       " 'Haralick13',\n",
       " 'Haralick2',\n",
       " 'Haralick3',\n",
       " 'Haralick4',\n",
       " 'Haralick5',\n",
       " 'Haralick6',\n",
       " 'Haralick7',\n",
       " 'Haralick8',\n",
       " 'Haralick9',\n",
       " 'Homogen',\n",
       " 'Mean',\n",
       " 'Shannon_Entropy',\n",
       " 'Skewness',\n",
       " 'Solidity',\n",
       " 'Standard Deviation',\n",
       " 'coarseness',\n",
       " 'contrast',\n",
       " 'deg0_GLN',\n",
       " 'deg0_RLN',\n",
       " 'deg0_SRE',\n",
       " 'deg135_GLN',\n",
       " 'deg135_RLN',\n",
       " 'deg135_SRE',\n",
       " 'deg45_GLN',\n",
       " 'deg45_RLN',\n",
       " 'deg45_SRE',\n",
       " 'deg90_GLN',\n",
       " 'deg90_RLN',\n",
       " 'deg90_SRE',\n",
       " 'directionality',\n",
       " 'gabor_energy',\n",
       " 'gabor_entropy',\n",
       " 'hu1',\n",
       " 'hu2',\n",
       " 'hu3',\n",
       " 'hu4',\n",
       " 'hu5',\n",
       " 'hu6',\n",
       " 'kurtosis',\n",
       " 'lbp_energy',\n",
       " 'lbp_entropy',\n",
       " 'roughness'}"
      ]
     },
     "execution_count": 196,
     "metadata": {},
     "output_type": "execute_result"
    }
   ],
   "source": [
    "correlated_features"
   ]
  },
  {
   "cell_type": "markdown",
   "metadata": {},
   "source": [
    "The above function shows that (---) features are correlated with the other features in the dataset. So, we drop these features."
   ]
  },
  {
   "cell_type": "code",
   "execution_count": 197,
   "metadata": {},
   "outputs": [
    {
     "data": {
      "text/plain": [
       "((70022, 2), (30010, 2))"
      ]
     },
     "execution_count": 197,
     "metadata": {},
     "output_type": "execute_result"
    }
   ],
   "source": [
    "X_train.drop(labels=correlated_features, axis=1, inplace=True)\n",
    "X_test.drop(labels=correlated_features, axis=1, inplace=True)\n",
    "\n",
    "X_train.shape, X_test.shape"
   ]
  },
  {
   "cell_type": "code",
   "execution_count": 176,
   "metadata": {},
   "outputs": [],
   "source": []
  },
  {
   "cell_type": "code",
   "execution_count": 177,
   "metadata": {},
   "outputs": [
    {
     "data": {
      "text/html": [
       "<style>#sk-container-id-3 {color: black;background-color: white;}#sk-container-id-3 pre{padding: 0;}#sk-container-id-3 div.sk-toggleable {background-color: white;}#sk-container-id-3 label.sk-toggleable__label {cursor: pointer;display: block;width: 100%;margin-bottom: 0;padding: 0.3em;box-sizing: border-box;text-align: center;}#sk-container-id-3 label.sk-toggleable__label-arrow:before {content: \"▸\";float: left;margin-right: 0.25em;color: #696969;}#sk-container-id-3 label.sk-toggleable__label-arrow:hover:before {color: black;}#sk-container-id-3 div.sk-estimator:hover label.sk-toggleable__label-arrow:before {color: black;}#sk-container-id-3 div.sk-toggleable__content {max-height: 0;max-width: 0;overflow: hidden;text-align: left;background-color: #f0f8ff;}#sk-container-id-3 div.sk-toggleable__content pre {margin: 0.2em;color: black;border-radius: 0.25em;background-color: #f0f8ff;}#sk-container-id-3 input.sk-toggleable__control:checked~div.sk-toggleable__content {max-height: 200px;max-width: 100%;overflow: auto;}#sk-container-id-3 input.sk-toggleable__control:checked~label.sk-toggleable__label-arrow:before {content: \"▾\";}#sk-container-id-3 div.sk-estimator input.sk-toggleable__control:checked~label.sk-toggleable__label {background-color: #d4ebff;}#sk-container-id-3 div.sk-label input.sk-toggleable__control:checked~label.sk-toggleable__label {background-color: #d4ebff;}#sk-container-id-3 input.sk-hidden--visually {border: 0;clip: rect(1px 1px 1px 1px);clip: rect(1px, 1px, 1px, 1px);height: 1px;margin: -1px;overflow: hidden;padding: 0;position: absolute;width: 1px;}#sk-container-id-3 div.sk-estimator {font-family: monospace;background-color: #f0f8ff;border: 1px dotted black;border-radius: 0.25em;box-sizing: border-box;margin-bottom: 0.5em;}#sk-container-id-3 div.sk-estimator:hover {background-color: #d4ebff;}#sk-container-id-3 div.sk-parallel-item::after {content: \"\";width: 100%;border-bottom: 1px solid gray;flex-grow: 1;}#sk-container-id-3 div.sk-label:hover label.sk-toggleable__label {background-color: #d4ebff;}#sk-container-id-3 div.sk-serial::before {content: \"\";position: absolute;border-left: 1px solid gray;box-sizing: border-box;top: 0;bottom: 0;left: 50%;z-index: 0;}#sk-container-id-3 div.sk-serial {display: flex;flex-direction: column;align-items: center;background-color: white;padding-right: 0.2em;padding-left: 0.2em;position: relative;}#sk-container-id-3 div.sk-item {position: relative;z-index: 1;}#sk-container-id-3 div.sk-parallel {display: flex;align-items: stretch;justify-content: center;background-color: white;position: relative;}#sk-container-id-3 div.sk-item::before, #sk-container-id-3 div.sk-parallel-item::before {content: \"\";position: absolute;border-left: 1px solid gray;box-sizing: border-box;top: 0;bottom: 0;left: 50%;z-index: -1;}#sk-container-id-3 div.sk-parallel-item {display: flex;flex-direction: column;z-index: 1;position: relative;background-color: white;}#sk-container-id-3 div.sk-parallel-item:first-child::after {align-self: flex-end;width: 50%;}#sk-container-id-3 div.sk-parallel-item:last-child::after {align-self: flex-start;width: 50%;}#sk-container-id-3 div.sk-parallel-item:only-child::after {width: 0;}#sk-container-id-3 div.sk-dashed-wrapped {border: 1px dashed gray;margin: 0 0.4em 0.5em 0.4em;box-sizing: border-box;padding-bottom: 0.4em;background-color: white;}#sk-container-id-3 div.sk-label label {font-family: monospace;font-weight: bold;display: inline-block;line-height: 1.2em;}#sk-container-id-3 div.sk-label-container {text-align: center;}#sk-container-id-3 div.sk-container {/* jupyter's `normalize.less` sets `[hidden] { display: none; }` but bootstrap.min.css set `[hidden] { display: none !important; }` so we also need the `!important` here to be able to override the default hidden behavior on the sphinx rendered scikit-learn.org. See: https://github.com/scikit-learn/scikit-learn/issues/21755 */display: inline-block !important;position: relative;}#sk-container-id-3 div.sk-text-repr-fallback {display: none;}</style><div id=\"sk-container-id-3\" class=\"sk-top-container\"><div class=\"sk-text-repr-fallback\"><pre>RandomForestClassifier(criterion=&#x27;entropy&#x27;, n_estimators=45)</pre><b>In a Jupyter environment, please rerun this cell to show the HTML representation or trust the notebook. <br />On GitHub, the HTML representation is unable to render, please try loading this page with nbviewer.org.</b></div><div class=\"sk-container\" hidden><div class=\"sk-item\"><div class=\"sk-estimator sk-toggleable\"><input class=\"sk-toggleable__control sk-hidden--visually\" id=\"sk-estimator-id-3\" type=\"checkbox\" checked><label for=\"sk-estimator-id-3\" class=\"sk-toggleable__label sk-toggleable__label-arrow\">RandomForestClassifier</label><div class=\"sk-toggleable__content\"><pre>RandomForestClassifier(criterion=&#x27;entropy&#x27;, n_estimators=45)</pre></div></div></div></div></div>"
      ],
      "text/plain": [
       "RandomForestClassifier(criterion='entropy', n_estimators=45)"
      ]
     },
     "execution_count": 177,
     "metadata": {},
     "output_type": "execute_result"
    }
   ],
   "source": []
  },
  {
   "cell_type": "code",
   "execution_count": 178,
   "metadata": {},
   "outputs": [
    {
     "name": "stderr",
     "output_type": "stream",
     "text": [
      "C:\\Users\\WIN10\\anaconda3\\lib\\site-packages\\sklearn\\base.py:443: UserWarning: X has feature names, but RandomForestClassifier was fitted without feature names\n",
      "  warnings.warn(\n"
     ]
    }
   ],
   "source": []
  },
  {
   "cell_type": "code",
   "execution_count": 134,
   "metadata": {},
   "outputs": [],
   "source": []
  },
  {
   "cell_type": "code",
   "execution_count": 179,
   "metadata": {},
   "outputs": [
    {
     "name": "stderr",
     "output_type": "stream",
     "text": [
      "C:\\Users\\WIN10\\anaconda3\\lib\\site-packages\\sklearn\\base.py:443: UserWarning: X has feature names, but RandomForestClassifier was fitted without feature names\n",
      "  warnings.warn(\n"
     ]
    },
    {
     "name": "stdout",
     "output_type": "stream",
     "text": [
      "Score with all features: 0.103\n"
     ]
    }
   ],
   "source": []
  },
  {
   "cell_type": "code",
   "execution_count": null,
   "metadata": {},
   "outputs": [],
   "source": []
  },
  {
   "cell_type": "markdown",
   "metadata": {},
   "source": [
    "### Calculating Groups of Higly Correlated Features"
   ]
  },
  {
   "cell_type": "code",
   "execution_count": 17,
   "metadata": {},
   "outputs": [
    {
     "data": {
      "text/plain": [
       "(50000, 133)"
      ]
     },
     "execution_count": 17,
     "metadata": {},
     "output_type": "execute_result"
    }
   ],
   "source": [
    "# Load Dataset\n",
    "df = pd.read_csv('./Paribas-Cardif-Claim-Data/train.csv', nrows=50000)\n",
    "df.shape"
   ]
  },
  {
   "cell_type": "code",
   "execution_count": 18,
   "metadata": {},
   "outputs": [],
   "source": [
    "# Get Numerical features from dataset\n",
    "numerics = ['int16', 'int32','int64', 'float16', 'float32', 'float64']\n",
    "numerical_features = list(df.select_dtypes(include=numerics).columns)"
   ]
  },
  {
   "cell_type": "code",
   "execution_count": 19,
   "metadata": {},
   "outputs": [],
   "source": [
    "data = df[numerical_features]"
   ]
  },
  {
   "cell_type": "code",
   "execution_count": 20,
   "metadata": {},
   "outputs": [
    {
     "data": {
      "text/html": [
       "<div>\n",
       "<style scoped>\n",
       "    .dataframe tbody tr th:only-of-type {\n",
       "        vertical-align: middle;\n",
       "    }\n",
       "\n",
       "    .dataframe tbody tr th {\n",
       "        vertical-align: top;\n",
       "    }\n",
       "\n",
       "    .dataframe thead th {\n",
       "        text-align: right;\n",
       "    }\n",
       "</style>\n",
       "<table border=\"1\" class=\"dataframe\">\n",
       "  <thead>\n",
       "    <tr style=\"text-align: right;\">\n",
       "      <th></th>\n",
       "      <th>ID</th>\n",
       "      <th>target</th>\n",
       "      <th>v1</th>\n",
       "      <th>v2</th>\n",
       "      <th>v4</th>\n",
       "      <th>v5</th>\n",
       "      <th>v6</th>\n",
       "      <th>v7</th>\n",
       "      <th>v8</th>\n",
       "      <th>v9</th>\n",
       "      <th>...</th>\n",
       "      <th>v121</th>\n",
       "      <th>v122</th>\n",
       "      <th>v123</th>\n",
       "      <th>v124</th>\n",
       "      <th>v126</th>\n",
       "      <th>v127</th>\n",
       "      <th>v128</th>\n",
       "      <th>v129</th>\n",
       "      <th>v130</th>\n",
       "      <th>v131</th>\n",
       "    </tr>\n",
       "  </thead>\n",
       "  <tbody>\n",
       "    <tr>\n",
       "      <th>0</th>\n",
       "      <td>3</td>\n",
       "      <td>1</td>\n",
       "      <td>1.335739</td>\n",
       "      <td>8.727474</td>\n",
       "      <td>3.921026</td>\n",
       "      <td>7.915266</td>\n",
       "      <td>2.599278</td>\n",
       "      <td>3.176895</td>\n",
       "      <td>0.012941</td>\n",
       "      <td>9.999999</td>\n",
       "      <td>...</td>\n",
       "      <td>0.803572</td>\n",
       "      <td>8.000000</td>\n",
       "      <td>1.989780</td>\n",
       "      <td>0.035754</td>\n",
       "      <td>1.804126</td>\n",
       "      <td>3.113719</td>\n",
       "      <td>2.024285</td>\n",
       "      <td>0</td>\n",
       "      <td>0.636365</td>\n",
       "      <td>2.857144</td>\n",
       "    </tr>\n",
       "    <tr>\n",
       "      <th>1</th>\n",
       "      <td>4</td>\n",
       "      <td>1</td>\n",
       "      <td>NaN</td>\n",
       "      <td>NaN</td>\n",
       "      <td>NaN</td>\n",
       "      <td>9.191265</td>\n",
       "      <td>NaN</td>\n",
       "      <td>NaN</td>\n",
       "      <td>2.301630</td>\n",
       "      <td>NaN</td>\n",
       "      <td>...</td>\n",
       "      <td>NaN</td>\n",
       "      <td>NaN</td>\n",
       "      <td>NaN</td>\n",
       "      <td>0.598896</td>\n",
       "      <td>NaN</td>\n",
       "      <td>NaN</td>\n",
       "      <td>1.957825</td>\n",
       "      <td>0</td>\n",
       "      <td>NaN</td>\n",
       "      <td>NaN</td>\n",
       "    </tr>\n",
       "    <tr>\n",
       "      <th>2</th>\n",
       "      <td>5</td>\n",
       "      <td>1</td>\n",
       "      <td>0.943877</td>\n",
       "      <td>5.310079</td>\n",
       "      <td>4.410969</td>\n",
       "      <td>5.326159</td>\n",
       "      <td>3.979592</td>\n",
       "      <td>3.928571</td>\n",
       "      <td>0.019645</td>\n",
       "      <td>12.666667</td>\n",
       "      <td>...</td>\n",
       "      <td>2.238806</td>\n",
       "      <td>9.333333</td>\n",
       "      <td>2.477596</td>\n",
       "      <td>0.013452</td>\n",
       "      <td>1.773709</td>\n",
       "      <td>3.922193</td>\n",
       "      <td>1.120468</td>\n",
       "      <td>2</td>\n",
       "      <td>0.883118</td>\n",
       "      <td>1.176472</td>\n",
       "    </tr>\n",
       "    <tr>\n",
       "      <th>3</th>\n",
       "      <td>6</td>\n",
       "      <td>1</td>\n",
       "      <td>0.797415</td>\n",
       "      <td>8.304757</td>\n",
       "      <td>4.225930</td>\n",
       "      <td>11.627438</td>\n",
       "      <td>2.097700</td>\n",
       "      <td>1.987549</td>\n",
       "      <td>0.171947</td>\n",
       "      <td>8.965516</td>\n",
       "      <td>...</td>\n",
       "      <td>1.956521</td>\n",
       "      <td>7.018256</td>\n",
       "      <td>1.812795</td>\n",
       "      <td>0.002267</td>\n",
       "      <td>1.415230</td>\n",
       "      <td>2.954381</td>\n",
       "      <td>1.990847</td>\n",
       "      <td>1</td>\n",
       "      <td>1.677108</td>\n",
       "      <td>1.034483</td>\n",
       "    </tr>\n",
       "    <tr>\n",
       "      <th>4</th>\n",
       "      <td>8</td>\n",
       "      <td>1</td>\n",
       "      <td>NaN</td>\n",
       "      <td>NaN</td>\n",
       "      <td>NaN</td>\n",
       "      <td>NaN</td>\n",
       "      <td>NaN</td>\n",
       "      <td>NaN</td>\n",
       "      <td>NaN</td>\n",
       "      <td>NaN</td>\n",
       "      <td>...</td>\n",
       "      <td>NaN</td>\n",
       "      <td>NaN</td>\n",
       "      <td>NaN</td>\n",
       "      <td>NaN</td>\n",
       "      <td>NaN</td>\n",
       "      <td>NaN</td>\n",
       "      <td>NaN</td>\n",
       "      <td>0</td>\n",
       "      <td>NaN</td>\n",
       "      <td>NaN</td>\n",
       "    </tr>\n",
       "  </tbody>\n",
       "</table>\n",
       "<p>5 rows × 114 columns</p>\n",
       "</div>"
      ],
      "text/plain": [
       "   ID  target        v1        v2        v4         v5        v6        v7  \\\n",
       "0   3       1  1.335739  8.727474  3.921026   7.915266  2.599278  3.176895   \n",
       "1   4       1       NaN       NaN       NaN   9.191265       NaN       NaN   \n",
       "2   5       1  0.943877  5.310079  4.410969   5.326159  3.979592  3.928571   \n",
       "3   6       1  0.797415  8.304757  4.225930  11.627438  2.097700  1.987549   \n",
       "4   8       1       NaN       NaN       NaN        NaN       NaN       NaN   \n",
       "\n",
       "         v8         v9    ...         v121      v122      v123      v124  \\\n",
       "0  0.012941   9.999999    ...     0.803572  8.000000  1.989780  0.035754   \n",
       "1  2.301630        NaN    ...          NaN       NaN       NaN  0.598896   \n",
       "2  0.019645  12.666667    ...     2.238806  9.333333  2.477596  0.013452   \n",
       "3  0.171947   8.965516    ...     1.956521  7.018256  1.812795  0.002267   \n",
       "4       NaN        NaN    ...          NaN       NaN       NaN       NaN   \n",
       "\n",
       "       v126      v127      v128  v129      v130      v131  \n",
       "0  1.804126  3.113719  2.024285     0  0.636365  2.857144  \n",
       "1       NaN       NaN  1.957825     0       NaN       NaN  \n",
       "2  1.773709  3.922193  1.120468     2  0.883118  1.176472  \n",
       "3  1.415230  2.954381  1.990847     1  1.677108  1.034483  \n",
       "4       NaN       NaN       NaN     0       NaN       NaN  \n",
       "\n",
       "[5 rows x 114 columns]"
      ]
     },
     "execution_count": 20,
     "metadata": {},
     "output_type": "execute_result"
    }
   ],
   "source": [
    "data.head()"
   ]
  },
  {
   "cell_type": "code",
   "execution_count": 21,
   "metadata": {},
   "outputs": [
    {
     "data": {
      "text/plain": [
       "(50000, 112)"
      ]
     },
     "execution_count": 21,
     "metadata": {},
     "output_type": "execute_result"
    }
   ],
   "source": [
    "X = data.drop(['target', 'ID'], axis=1)\n",
    "X.shape"
   ]
  },
  {
   "cell_type": "code",
   "execution_count": 22,
   "metadata": {},
   "outputs": [
    {
     "data": {
      "text/plain": [
       "(50000,)"
      ]
     },
     "execution_count": 22,
     "metadata": {},
     "output_type": "execute_result"
    }
   ],
   "source": [
    "y = data['target']\n",
    "y.shape"
   ]
  },
  {
   "cell_type": "code",
   "execution_count": 23,
   "metadata": {},
   "outputs": [
    {
     "data": {
      "text/plain": [
       "((35000, 112), (35000,), (15000, 112), (15000,))"
      ]
     },
     "execution_count": 23,
     "metadata": {},
     "output_type": "execute_result"
    }
   ],
   "source": [
    "# Train Test Split\n",
    "X_train, X_test, y_train, y_test = train_test_split(X, y, test_size=0.3, random_state=101)\n",
    "X_train.shape, y_train.shape, X_test.shape, y_test.shape"
   ]
  },
  {
   "cell_type": "code",
   "execution_count": 24,
   "metadata": {},
   "outputs": [
    {
     "data": {
      "text/html": [
       "<div>\n",
       "<style scoped>\n",
       "    .dataframe tbody tr th:only-of-type {\n",
       "        vertical-align: middle;\n",
       "    }\n",
       "\n",
       "    .dataframe tbody tr th {\n",
       "        vertical-align: top;\n",
       "    }\n",
       "\n",
       "    .dataframe thead th {\n",
       "        text-align: right;\n",
       "    }\n",
       "</style>\n",
       "<table border=\"1\" class=\"dataframe\">\n",
       "  <thead>\n",
       "    <tr style=\"text-align: right;\">\n",
       "      <th></th>\n",
       "      <th>feature1</th>\n",
       "      <th>feature2</th>\n",
       "      <th>Correlation</th>\n",
       "    </tr>\n",
       "  </thead>\n",
       "  <tbody>\n",
       "    <tr>\n",
       "      <th>0</th>\n",
       "      <td>v100</td>\n",
       "      <td>v58</td>\n",
       "      <td>0.997879</td>\n",
       "    </tr>\n",
       "    <tr>\n",
       "      <th>1</th>\n",
       "      <td>v58</td>\n",
       "      <td>v100</td>\n",
       "      <td>0.997879</td>\n",
       "    </tr>\n",
       "    <tr>\n",
       "      <th>2</th>\n",
       "      <td>v115</td>\n",
       "      <td>v69</td>\n",
       "      <td>0.993563</td>\n",
       "    </tr>\n",
       "    <tr>\n",
       "      <th>3</th>\n",
       "      <td>v69</td>\n",
       "      <td>v115</td>\n",
       "      <td>0.993563</td>\n",
       "    </tr>\n",
       "    <tr>\n",
       "      <th>4</th>\n",
       "      <td>v76</td>\n",
       "      <td>v17</td>\n",
       "      <td>0.992257</td>\n",
       "    </tr>\n",
       "  </tbody>\n",
       "</table>\n",
       "</div>"
      ],
      "text/plain": [
       "  feature1 feature2  Correlation\n",
       "0     v100      v58     0.997879\n",
       "1      v58     v100     0.997879\n",
       "2     v115      v69     0.993563\n",
       "3      v69     v115     0.993563\n",
       "4      v76      v17     0.992257"
      ]
     },
     "execution_count": 24,
     "metadata": {},
     "output_type": "execute_result"
    }
   ],
   "source": [
    "# Build a Dataframe with Correlation between Features\n",
    "corr_matrix = X_train.corr()\n",
    "# Take absolute values of correlated coefficients\n",
    "corr_matrix = corr_matrix.abs().unstack()\n",
    "corr_matrix = corr_matrix.sort_values(ascending=False)\n",
    "# Take only features with correlation above threshold of 0.8\n",
    "corr_matrix = corr_matrix[corr_matrix >= 0.8]\n",
    "corr_matrix = corr_matrix[corr_matrix < 1]\n",
    "corr_matrix = pd.DataFrame(corr_matrix).reset_index()\n",
    "corr_matrix.columns = ['feature1', 'feature2', 'Correlation']\n",
    "corr_matrix.head()"
   ]
  },
  {
   "cell_type": "code",
   "execution_count": 25,
   "metadata": {},
   "outputs": [
    {
     "name": "stdout",
     "output_type": "stream",
     "text": [
      "Found 30 correlated feature groups\n",
      "out of 112 total features.\n"
     ]
    }
   ],
   "source": [
    "# Get groups of features that are correlated amongs themselves\n",
    "grouped_features = []\n",
    "correlated_groups = []\n",
    "\n",
    "for feature in corr_matrix.feature1.unique():\n",
    "    if feature not in grouped_features:\n",
    "        # Find all features correlated to a single feature\n",
    "        correlated_block = corr_matrix[corr_matrix.feature1 == feature]\n",
    "        grouped_features = grouped_features + list(correlated_block.feature2.unique()) + [feature]\n",
    "        \n",
    "        # Append block of features to the list\n",
    "        correlated_groups.append(correlated_block)\n",
    "\n",
    "print('Found {} correlated feature groups'.format(len(correlated_groups)))\n",
    "print('out of {} total features.'.format(X_train.shape[1]))"
   ]
  },
  {
   "cell_type": "code",
   "execution_count": 26,
   "metadata": {},
   "outputs": [
    {
     "name": "stdout",
     "output_type": "stream",
     "text": [
      "  feature1 feature2  Correlation\n",
      "0     v100      v58     0.997879\n",
      "\n",
      "\n",
      "  feature1 feature2  Correlation\n",
      "2     v115      v69     0.993563\n",
      "\n",
      "\n",
      "    feature1 feature2  Correlation\n",
      "4        v76      v17     0.992257\n",
      "51       v76      v64     0.952077\n",
      "145      v76      v93     0.876672\n",
      "164      v76      v48     0.863382\n",
      "\n",
      "\n",
      "   feature1 feature2  Correlation\n",
      "6       v46      v63     0.991704\n",
      "8       v46      v25     0.982463\n",
      "24      v46       v8     0.975372\n",
      "58      v46     v105     0.945270\n",
      "70      v46      v89     0.935300\n",
      "91      v46      v54     0.921074\n",
      "\n",
      "\n",
      "    feature1 feature2  Correlation\n",
      "15      v106      v48     0.981408\n",
      "76      v106      v64     0.932641\n",
      "148     v106      v44     0.874180\n",
      "169     v106      v61     0.861864\n",
      "181     v106      v17     0.855274\n",
      "188     v106       v4     0.844129\n",
      "205     v106     v101     0.836028\n",
      "\n",
      "\n",
      "    feature1 feature2  Correlation\n",
      "16       v60      v26     0.980199\n",
      "147      v60      v43     0.876360\n",
      "178      v60     v116     0.856916\n",
      "\n",
      "\n",
      "    feature1 feature2  Correlation\n",
      "20       v95      v92     0.976713\n",
      "232      v95       v7     0.809384\n",
      "\n",
      "\n",
      "    feature1 feature2  Correlation\n",
      "28      v114      v40     0.966813\n",
      "105     v114      v34     0.910810\n",
      "\n",
      "\n",
      "    feature1 feature2  Correlation\n",
      "30      v121      v83     0.965942\n",
      "54      v121      v33     0.947604\n",
      "130     v121     v111     0.886807\n",
      "132     v121      v55     0.886463\n",
      "157     v121      v65     0.868071\n",
      "230     v121     v130     0.810315\n",
      "\n",
      "\n",
      "   feature1 feature2  Correlation\n",
      "40     v118      v97     0.962191\n",
      "\n",
      "\n",
      "    feature1 feature2  Correlation\n",
      "42       v29      v96     0.958080\n",
      "82       v29      v67     0.925492\n",
      "89       v29      v77     0.921093\n",
      "111      v29      v41     0.905297\n",
      "\n",
      "\n",
      "    feature1 feature2  Correlation\n",
      "44      v108     v128     0.957971\n",
      "163     v108     v109     0.864017\n",
      "235     v108      v87     0.808741\n",
      "\n",
      "\n",
      "   feature1 feature2  Correlation\n",
      "48      v53      v11     0.954474\n",
      "\n",
      "\n",
      "   feature1 feature2  Correlation\n",
      "56      v68      v39     0.945857\n",
      "\n",
      "\n",
      "   feature1 feature2  Correlation\n",
      "60      v73      v15     0.943934\n",
      "96      v73      v32     0.913401\n",
      "\n",
      "\n",
      "   feature1 feature2  Correlation\n",
      "84      v13     v104     0.924817\n",
      "\n",
      "\n",
      "   feature1 feature2  Correlation\n",
      "94      v12      v10     0.913954\n",
      "\n",
      "\n",
      "   feature1 feature2  Correlation\n",
      "99      v20      v65     0.913248\n",
      "\n",
      "\n",
      "    feature1 feature2  Correlation\n",
      "100      v86      v32     0.911180\n",
      "158      v86      v15     0.867116\n",
      "\n",
      "\n",
      "    feature1 feature2  Correlation\n",
      "113      v49      v41     0.904762\n",
      "191      v49      v35     0.842932\n",
      "196      v49      v67     0.839718\n",
      "\n",
      "\n",
      "    feature1 feature2  Correlation\n",
      "118       v5      v81     0.903867\n",
      "\n",
      "\n",
      "    feature1 feature2  Correlation\n",
      "126      v37       v1     0.895382\n",
      "\n",
      "\n",
      "    feature1 feature2  Correlation\n",
      "135     v124     v105     0.881706\n",
      "213     v124      v54     0.827626\n",
      "229     v124      v25     0.811765\n",
      "\n",
      "\n",
      "    feature1 feature2  Correlation\n",
      "170     v119     v123     0.861847\n",
      "\n",
      "\n",
      "    feature1 feature2  Correlation\n",
      "172      v94     v103     0.861074\n",
      "194      v94     v126     0.840258\n",
      "\n",
      "\n",
      "    feature1 feature2  Correlation\n",
      "182      v98      v70     0.846003\n",
      "\n",
      "\n",
      "    feature1 feature2  Correlation\n",
      "198      v84      v80     0.839113\n",
      "238      v84      v33     0.805052\n",
      "\n",
      "\n",
      "    feature1 feature2  Correlation\n",
      "202      v14      v21      0.83846\n",
      "\n",
      "\n",
      "    feature1 feature2  Correlation\n",
      "210     v122       v9     0.832024\n",
      "\n",
      "\n",
      "    feature1 feature2  Correlation\n",
      "224      v51      v93     0.813147\n",
      "243      v51      v81     0.801365\n",
      "\n",
      "\n"
     ]
    }
   ],
   "source": [
    "# Visualize Correlated Feature Groups\n",
    "for group in correlated_groups:\n",
    "    print(group)\n",
    "    print('\\n')"
   ]
  },
  {
   "cell_type": "markdown",
   "metadata": {},
   "source": [
    "In the tables above, we get the correlation values for the features and see that howthey are correlated to each other along with their correlation value. Now the question is which one of the features to remove and which to keep? To decide that, we can look at the groups individually and keep the group with the highest correlation and least amount of missing data."
   ]
  },
  {
   "cell_type": "code",
   "execution_count": 27,
   "metadata": {},
   "outputs": [
    {
     "data": {
      "text/html": [
       "<div>\n",
       "<style scoped>\n",
       "    .dataframe tbody tr th:only-of-type {\n",
       "        vertical-align: middle;\n",
       "    }\n",
       "\n",
       "    .dataframe tbody tr th {\n",
       "        vertical-align: top;\n",
       "    }\n",
       "\n",
       "    .dataframe thead th {\n",
       "        text-align: right;\n",
       "    }\n",
       "</style>\n",
       "<table border=\"1\" class=\"dataframe\">\n",
       "  <thead>\n",
       "    <tr style=\"text-align: right;\">\n",
       "      <th></th>\n",
       "      <th>feature1</th>\n",
       "      <th>feature2</th>\n",
       "      <th>Correlation</th>\n",
       "    </tr>\n",
       "  </thead>\n",
       "  <tbody>\n",
       "    <tr>\n",
       "      <th>6</th>\n",
       "      <td>v46</td>\n",
       "      <td>v63</td>\n",
       "      <td>0.991704</td>\n",
       "    </tr>\n",
       "    <tr>\n",
       "      <th>8</th>\n",
       "      <td>v46</td>\n",
       "      <td>v25</td>\n",
       "      <td>0.982463</td>\n",
       "    </tr>\n",
       "    <tr>\n",
       "      <th>24</th>\n",
       "      <td>v46</td>\n",
       "      <td>v8</td>\n",
       "      <td>0.975372</td>\n",
       "    </tr>\n",
       "    <tr>\n",
       "      <th>58</th>\n",
       "      <td>v46</td>\n",
       "      <td>v105</td>\n",
       "      <td>0.945270</td>\n",
       "    </tr>\n",
       "    <tr>\n",
       "      <th>70</th>\n",
       "      <td>v46</td>\n",
       "      <td>v89</td>\n",
       "      <td>0.935300</td>\n",
       "    </tr>\n",
       "    <tr>\n",
       "      <th>91</th>\n",
       "      <td>v46</td>\n",
       "      <td>v54</td>\n",
       "      <td>0.921074</td>\n",
       "    </tr>\n",
       "  </tbody>\n",
       "</table>\n",
       "</div>"
      ],
      "text/plain": [
       "   feature1 feature2  Correlation\n",
       "6       v46      v63     0.991704\n",
       "8       v46      v25     0.982463\n",
       "24      v46       v8     0.975372\n",
       "58      v46     v105     0.945270\n",
       "70      v46      v89     0.935300\n",
       "91      v46      v54     0.921074"
      ]
     },
     "execution_count": 27,
     "metadata": {},
     "output_type": "execute_result"
    }
   ],
   "source": [
    "# Investigating features further within one group\n",
    "group = correlated_groups[3]\n",
    "group"
   ]
  },
  {
   "cell_type": "code",
   "execution_count": 28,
   "metadata": {},
   "outputs": [
    {
     "name": "stdout",
     "output_type": "stream",
     "text": [
      "15252\n",
      "15252\n",
      "15252\n",
      "15252\n",
      "15252\n",
      "15252\n",
      "15252\n"
     ]
    }
   ],
   "source": [
    "# Select features with less missing data\n",
    "for features in list(group.feature2.unique()) + ['v17']:\n",
    "    print(X_train[feature].isnull().sum())"
   ]
  },
  {
   "cell_type": "markdown",
   "metadata": {},
   "source": [
    "Since, all of the features contain the same amount of missing data, so this might not be the best way to decide which feature to keep. So, we use RFC for this. Using Random Forest Classifier, we find out the features that are most predictive and select that."
   ]
  },
  {
   "cell_type": "code",
   "execution_count": 29,
   "metadata": {},
   "outputs": [
    {
     "data": {
      "text/plain": [
       "RandomForestClassifier(bootstrap=True, class_weight=None, criterion='gini',\n",
       "            max_depth=4, max_features='auto', max_leaf_nodes=None,\n",
       "            min_impurity_decrease=0.0, min_impurity_split=None,\n",
       "            min_samples_leaf=1, min_samples_split=2,\n",
       "            min_weight_fraction_leaf=0.0, n_estimators=20, n_jobs=1,\n",
       "            oob_score=False, random_state=101, verbose=0, warm_start=False)"
      ]
     },
     "execution_count": 29,
     "metadata": {},
     "output_type": "execute_result"
    }
   ],
   "source": [
    "from sklearn.ensemble import RandomForestClassifier\n",
    "\n",
    "features = list(group.feature2.unique()) + ['v17']\n",
    "rfc = RandomForestClassifier(n_estimators=20, random_state=101, max_depth=4)\n",
    "rfc.fit(X_train[features].fillna(0), y_train)"
   ]
  },
  {
   "cell_type": "code",
   "execution_count": 30,
   "metadata": {},
   "outputs": [
    {
     "data": {
      "text/html": [
       "<div>\n",
       "<style scoped>\n",
       "    .dataframe tbody tr th:only-of-type {\n",
       "        vertical-align: middle;\n",
       "    }\n",
       "\n",
       "    .dataframe tbody tr th {\n",
       "        vertical-align: top;\n",
       "    }\n",
       "\n",
       "    .dataframe thead th {\n",
       "        text-align: right;\n",
       "    }\n",
       "</style>\n",
       "<table border=\"1\" class=\"dataframe\">\n",
       "  <thead>\n",
       "    <tr style=\"text-align: right;\">\n",
       "      <th></th>\n",
       "      <th>feature</th>\n",
       "      <th>importance</th>\n",
       "    </tr>\n",
       "  </thead>\n",
       "  <tbody>\n",
       "    <tr>\n",
       "      <th>6</th>\n",
       "      <td>v17</td>\n",
       "      <td>0.229342</td>\n",
       "    </tr>\n",
       "    <tr>\n",
       "      <th>2</th>\n",
       "      <td>v8</td>\n",
       "      <td>0.178029</td>\n",
       "    </tr>\n",
       "    <tr>\n",
       "      <th>3</th>\n",
       "      <td>v105</td>\n",
       "      <td>0.139498</td>\n",
       "    </tr>\n",
       "    <tr>\n",
       "      <th>5</th>\n",
       "      <td>v54</td>\n",
       "      <td>0.128159</td>\n",
       "    </tr>\n",
       "    <tr>\n",
       "      <th>0</th>\n",
       "      <td>v63</td>\n",
       "      <td>0.125523</td>\n",
       "    </tr>\n",
       "    <tr>\n",
       "      <th>1</th>\n",
       "      <td>v25</td>\n",
       "      <td>0.110469</td>\n",
       "    </tr>\n",
       "    <tr>\n",
       "      <th>4</th>\n",
       "      <td>v89</td>\n",
       "      <td>0.088979</td>\n",
       "    </tr>\n",
       "  </tbody>\n",
       "</table>\n",
       "</div>"
      ],
      "text/plain": [
       "  feature  importance\n",
       "6     v17    0.229342\n",
       "2      v8    0.178029\n",
       "3    v105    0.139498\n",
       "5     v54    0.128159\n",
       "0     v63    0.125523\n",
       "1     v25    0.110469\n",
       "4     v89    0.088979"
      ]
     },
     "execution_count": 30,
     "metadata": {},
     "output_type": "execute_result"
    }
   ],
   "source": [
    "# Get Feature Importance using RFC\n",
    "importance = pd.concat([pd.Series(features), pd.Series(rfc.feature_importances_)], axis=1)\n",
    "importance.columns = ['feature', 'importance']\n",
    "importance.sort_values(by='importance', ascending=False)"
   ]
  },
  {
   "cell_type": "markdown",
   "metadata": {},
   "source": [
    "From above table, we can see that v17 does the best job and hence we'll select that and remove the rest of the features."
   ]
  }
 ],
 "metadata": {
  "kernelspec": {
   "display_name": "Python 3 (ipykernel)",
   "language": "python",
   "name": "python3"
  },
  "language_info": {
   "codemirror_mode": {
    "name": "ipython",
    "version": 3
   },
   "file_extension": ".py",
   "mimetype": "text/x-python",
   "name": "python",
   "nbconvert_exporter": "python",
   "pygments_lexer": "ipython3",
   "version": "3.9.13"
  }
 },
 "nbformat": 4,
 "nbformat_minor": 2
}
